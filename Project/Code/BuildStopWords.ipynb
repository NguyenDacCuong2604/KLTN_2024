{
 "cells": [
  {
   "cell_type": "code",
   "id": "initial_id",
   "metadata": {
    "collapsed": true,
    "ExecuteTime": {
     "end_time": "2024-07-19T13:25:33.834837Z",
     "start_time": "2024-07-19T13:25:33.808380Z"
    }
   },
   "source": [
    "import re\n",
    "\n",
    "def loaddictchar():\n",
    "    dic = {}\n",
    "    char1252 = 'à|á|ả|ã|ạ|ầ|ấ|ẩ|ẫ|ậ|ằ|ắ|ẳ|ẵ|ặ|è|é|ẻ|ẽ|ẹ|ề|ế|ể|ễ|ệ|ì|í|ỉ|ĩ|ị|ò|ó|ỏ|õ|ọ|ồ|ố|ổ|ỗ|ộ|ờ|ớ|ở|ỡ|ợ|ù|ú|ủ|ũ|ụ|ừ|ứ|ử|ữ|ự|ỳ|ý|ỷ|ỹ|ỵ|À|Á|Ả|Ã|Ạ|Ầ|Ấ|Ẩ|Ẫ|Ậ|Ằ|Ắ|Ẳ|Ẵ|Ặ|È|É|Ẻ|Ẽ|Ẹ|Ề|Ế|Ể|Ễ|Ệ|Ì|Í|Ỉ|Ĩ|Ị|Ò|Ó|Ỏ|Õ|Ọ|Ồ|Ố|Ổ|Ỗ|Ộ|Ờ|Ớ|Ở|Ỡ|Ợ|Ù|Ú|Ủ|Ũ|Ụ|Ừ|Ứ|Ử|Ữ|Ự|Ỳ|Ý|Ỷ|Ỹ|Ỵ'.split('|')\n",
    "    charutf8 = \"à|á|ả|ã|ạ|ầ|ấ|ẩ|ẫ|ậ|ằ|ắ|ẳ|ẵ|ặ|è|é|ẻ|ẽ|ẹ|ề|ế|ể|ễ|ệ|ì|í|ỉ|ĩ|ị|ò|ó|ỏ|õ|ọ|ồ|ố|ổ|ỗ|ộ|ờ|ớ|ở|ỡ|ợ|ù|ú|ủ|ũ|ụ|ừ|ứ|ử|ữ|ự|ỳ|ý|ỷ|ỹ|ỵ|À|Á|Ả|Ã|Ạ|Ầ|Ấ|Ẩ|Ẫ|Ậ|Ằ|Ắ|Ẳ|Ẵ|Ặ|È|É|Ẻ|Ẽ|Ẹ|Ề|Ế|Ể|Ễ|Ệ|Ì|Í|Ỉ|Ĩ|Ị|Ò|Ó|Ỏ|Õ|Ọ|Ồ|Ố|Ổ|Ỗ|Ộ|Ờ|Ớ|Ở|Ỡ|Ợ|Ù|Ú|Ủ|Ũ|Ụ|Ừ|Ứ|Ử|Ữ|Ự|Ỳ|Ý|Ỷ|Ỹ|Ỵ\".split('|')\n",
    "    for i in range(len(char1252)):\n",
    "        dic[char1252[i]] = charutf8[i]\n",
    "    return dic\n",
    "\n",
    "dicchar = loaddictchar()\n",
    "\n",
    "#Đưa văn bản về bộ mã tiếng Việt utf-8\n",
    "def convertwindown1525toutf8(txt):\n",
    "    return re.sub(r'à|á|ả|ã|ạ|ầ|ấ|ẩ|ẫ|ậ|ằ|ắ|ẳ|ẵ|ặ|è|é|ẻ|ẽ|ẹ|ề|ế|ể|ễ|ệ|ì|í|ỉ|ĩ|ị|ò|ó|ỏ|õ|ọ|ồ|ố|ổ|ỗ|ộ|ờ|ớ|ở|ỡ|ợ|ù|ú|ủ|ũ|ụ|ừ|ứ|ử|ữ|ự|ỳ|ý|ỷ|ỹ|ỵ|À|Á|Ả|Ã|Ạ|Ầ|Ấ|Ẩ|Ẫ|Ậ|Ằ|Ắ|Ẳ|Ẵ|Ặ|È|É|Ẻ|Ẽ|Ẹ|Ề|Ế|Ể|Ễ|Ệ|Ì|Í|Ỉ|Ĩ|Ị|Ò|Ó|Ỏ|Õ|Ọ|Ồ|Ố|Ổ|Ỗ|Ộ|Ờ|Ớ|Ở|Ỡ|Ợ|Ù|Ú|Ủ|Ũ|Ụ|Ừ|Ứ|Ử|Ữ|Ự|Ỳ|Ý|Ỷ|Ỹ|Ỵ',\n",
    "                  lambda x: dicchar[x.group()], txt)\n",
    "\n",
    "bang_nguyen_am = [['a', 'à', 'á', 'ả', 'ã', 'ạ'],\n",
    "                  ['ă', 'ằ', 'ắ', 'ẳ', 'ẵ', 'ặ'],\n",
    "                  ['â', 'ầ', 'ấ', 'ẩ', 'ẫ', 'ậ'],\n",
    "                  ['e', 'è', 'é', 'ẻ', 'ẽ', 'ẹ'],\n",
    "                  ['ê', 'ề', 'ế', 'ể', 'ễ', 'ệ'],\n",
    "                  ['i', 'ì', 'í', 'ỉ', 'ĩ', 'ị'],\n",
    "                  ['o', 'ò', 'ó', 'ỏ', 'õ', 'ọ'],\n",
    "                  ['ô', 'ồ', 'ố', 'ổ', 'ỗ', 'ộ'],\n",
    "                  ['ơ', 'ờ', 'ớ', 'ở', 'ỡ', 'ợ'],\n",
    "                  ['u', 'ù', 'ú', 'ủ', 'ũ', 'ụ'],\n",
    "                  ['ư', 'ừ', 'ứ', 'ử', 'ữ', 'ự'],\n",
    "                  ['y', 'ỳ', 'ý', 'ỷ', 'ỹ', 'ỵ']]\n",
    "\n",
    "nguyen_am_to_ids = {}\n",
    "\n",
    "for i in range(len(bang_nguyen_am)):\n",
    "    for j in range(len(bang_nguyen_am[i])):\n",
    "        nguyen_am_to_ids[bang_nguyen_am[i][j]] = (i, j)\n",
    "\n",
    "def is_valid_vietnam_word(word):\n",
    "    chars = list(word)\n",
    "    nguyen_am_index = -1\n",
    "    for index, char in enumerate(chars):\n",
    "        x, y = nguyen_am_to_ids.get(char, (-1, -1))\n",
    "        if x != -1:\n",
    "            if nguyen_am_index == -1:\n",
    "                nguyen_am_index = index\n",
    "            else:\n",
    "                if index - nguyen_am_index != 1:\n",
    "                    return False\n",
    "                nguyen_am_index = index\n",
    "    return True\n",
    "\n",
    "#Sửa lỗi sử dụng các dấu thanh kiểu cũ (òa, úy thay vì oà, uý)\n",
    "def chuan_hoa_dau_tu_tieng_viet(word):\n",
    "    if not is_valid_vietnam_word(word):\n",
    "        return word\n",
    "\n",
    "    chars = list(word)\n",
    "    dau_cau = 0\n",
    "    nguyen_am_index = []\n",
    "    qu_or_gi = False\n",
    "    for index, char in enumerate(chars):\n",
    "        x, y = nguyen_am_to_ids.get(char, (-1, -1))\n",
    "        if x == -1:\n",
    "            continue\n",
    "        elif x == 9:  # check qu\n",
    "            if index != 0 and chars[index - 1] == 'q':\n",
    "                chars[index] = 'u'\n",
    "                qu_or_gi = True\n",
    "        elif x == 5:  # check gi\n",
    "            if index != 0 and chars[index - 1] == 'g':\n",
    "                chars[index] = 'i'\n",
    "                qu_or_gi = True\n",
    "        if y != 0:\n",
    "            dau_cau = y\n",
    "            chars[index] = bang_nguyen_am[x][0]\n",
    "        if not qu_or_gi or index != 1:\n",
    "            nguyen_am_index.append(index)\n",
    "    if len(nguyen_am_index) < 2:\n",
    "        if qu_or_gi:\n",
    "            if len(chars) == 2:\n",
    "                x, y = nguyen_am_to_ids.get(chars[1])\n",
    "                chars[1] = bang_nguyen_am[x][dau_cau]\n",
    "            else:\n",
    "                x, y = nguyen_am_to_ids.get(chars[2], (-1, -1))\n",
    "                if x != -1:\n",
    "                    chars[2] = bang_nguyen_am[x][dau_cau]\n",
    "                else:\n",
    "                    chars[1] = bang_nguyen_am[5][dau_cau] if chars[1] == 'i' else bang_nguyen_am[9][dau_cau]\n",
    "            return ''.join(chars)\n",
    "        return word\n",
    "\n",
    "    for index in nguyen_am_index:\n",
    "        x, y = nguyen_am_to_ids[chars[index]]\n",
    "        if x == 4 or x == 8:  # ê, ơ\n",
    "            chars[index] = bang_nguyen_am[x][dau_cau]\n",
    "            return ''.join(chars)\n",
    "\n",
    "    if len(nguyen_am_index) == 2:\n",
    "        if nguyen_am_index[-1] == len(chars) - 1:\n",
    "            x, y = nguyen_am_to_ids[chars[nguyen_am_index[0]]]\n",
    "            chars[nguyen_am_index[0]] = bang_nguyen_am[x][dau_cau]\n",
    "        else:\n",
    "            x, y = nguyen_am_to_ids[chars[nguyen_am_index[1]]]\n",
    "            chars[nguyen_am_index[1]] = bang_nguyen_am[x][dau_cau]\n",
    "    else:\n",
    "        x, y = nguyen_am_to_ids[chars[nguyen_am_index[1]]]\n",
    "        chars[nguyen_am_index[1]] = bang_nguyen_am[x][dau_cau]\n",
    "    return ''.join(chars)\n",
    "\n",
    "\n",
    "def chuan_hoa_dau_cau_tieng_viet(sentence):\n",
    "    sentence = convertwindown1525toutf8(sentence)\n",
    "\n",
    "    ##Do nếu không tách các ký tự đặc biệt ra từng từ, thì def chuan_hoa_dau_tu_tieng_viet sẽ sửa dấu sai\n",
    "    # Sử dụng regex để tách các từ và ký tự đặc biệt\n",
    "    words_with_indices = [(match.group(), match.start()) for match in re.finditer(r'\\w+|[^\\w\\s]', sentence)]\n",
    "\n",
    "    # Chuẩn hóa từng từ tiếng Việt\n",
    "    for index, (word, pos) in enumerate(words_with_indices):\n",
    "        if word.isalnum():  # Chỉ chuẩn hóa nếu từ là chữ cái hoặc số\n",
    "            words_with_indices[index] = (chuan_hoa_dau_tu_tieng_viet(word.lower()), pos)\n",
    "\n",
    "    # Khôi phục lại câu với các ký tự đặc biệt đúng vị trí và giữ nguyên viết hoa viết thường\n",
    "    result = list(sentence)\n",
    "    for word, pos in words_with_indices:\n",
    "        for i, char in enumerate(word):\n",
    "            if sentence[pos + i].isupper():\n",
    "                result[pos + i] = char.upper()\n",
    "            else:\n",
    "                result[pos + i] = char\n",
    "\n",
    "    return ''.join(result)"
   ],
   "outputs": [],
   "execution_count": 128
  },
  {
   "metadata": {
    "ExecuteTime": {
     "end_time": "2024-07-19T13:25:37.560162Z",
     "start_time": "2024-07-19T13:25:37.553848Z"
    }
   },
   "cell_type": "code",
   "source": [
    "# Np - Proper noun\n",
    "# M - Numeral\n",
    "# F - Filtered out (punctuation)\n",
    "def filter_and_join_words(tagged_sentence, is_remove_np):\n",
    "    exclude_pos_tags = ['M', 'F']\n",
    "    if is_remove_np:\n",
    "        exclude_pos_tags.append('Np')\n",
    "\n",
    "    \"\"\"\n",
    "    Remove words that have postags in the exclude_pos_tags list from the tagged_sentence and join the remaining words with spaces.\n",
    "\n",
    "    Parameters:\n",
    "    tagged_sentence (tuple of list of str): The tuple containing two lists: words and postags.\n",
    "    exclude_pos_tags (list of str): The list of postags to exclude.\n",
    "\n",
    "    Returns:\n",
    "    str: The filtered words joined by spaces.\n",
    "    \"\"\"\n",
    "    words, postags = tagged_sentence\n",
    "    filtered_words = []\n",
    "\n",
    "    for word, postag in zip(words, postags):\n",
    "        if postag not in exclude_pos_tags:\n",
    "            filtered_words.append(word)\n",
    "\n",
    "    return ' '.join(filtered_words)"
   ],
   "id": "ec2d60a707507187",
   "outputs": [],
   "execution_count": 129
  },
  {
   "metadata": {
    "ExecuteTime": {
     "end_time": "2024-07-19T13:25:39.891163Z",
     "start_time": "2024-07-19T13:25:39.883851Z"
    }
   },
   "cell_type": "code",
   "source": [
    "#Stopwords\n",
    "stopwords = set()\n",
    "#open file stopword\n",
    "with open('../Dataset/Stopwords/vietnamese-stopwords-dash.txt', \"r\", encoding='utf-8') as file:\n",
    "  word = file.readlines()\n",
    "stopwords = [n.replace('\\n', '') for n in word]"
   ],
   "id": "9a08b4cde7a00893",
   "outputs": [],
   "execution_count": 130
  },
  {
   "metadata": {
    "ExecuteTime": {
     "end_time": "2024-07-19T13:25:41.846612Z",
     "start_time": "2024-07-19T13:25:41.840419Z"
    }
   },
   "cell_type": "code",
   "source": "stopwords_project = set()",
   "id": "8c085e891dd5b5f1",
   "outputs": [],
   "execution_count": 131
  },
  {
   "metadata": {
    "ExecuteTime": {
     "end_time": "2024-07-19T13:25:45.213782Z",
     "start_time": "2024-07-19T13:25:45.199020Z"
    }
   },
   "cell_type": "code",
   "source": [
    "from pyvi import ViTokenizer, ViPosTagger\n",
    "def text_preprocess(text, is_remove_np):\n",
    "    text = chuan_hoa_dau_cau_tieng_viet(text) #Chuẩn hóa dấu câu tiếng việt và chuyển đổi Windown1525 thành UTF8\n",
    "    text = text.replace('_x000D_', '') # _x000D_ là mã Unicode biểu diễn ký tự xuống dòng (CR-Carriage Return) (Cái này khi up file excel, mở bằng GG Sheets sẽ bị ở những chổ xuống dòng dữ liệu '\\n')\n",
    "\n",
    "    # Kiểm tra tỷ lệ ký tự viết hoa trong văn bản\n",
    "    upper_case_chars = sum(1 for char in text if char.isupper())\n",
    "    total_chars = len(text)\n",
    "    if upper_case_chars / total_chars >= 0.9:\n",
    "        text = text.lower() #Nếu tỷ lệ ký tự viết hoa cao hơn 90%, chuyển đổi văn bản thành viết thường\n",
    "    \"\"\"\n",
    "    Ví dụ:   V/V CỬ NHÂN SỰ THAM GIA TỔ CÔNG TÁC VÀ TỔ GIÚP VIỆC XÂY DỰNG ĐỀ ÁN PHÂN CẤP, ỦY QUYỀN\n",
    "             BÁO CÁO VỀ TỔ CHỨC HOẠT ĐỘNG VẬN TẢI PHÒNG, CHỐNG DỊCH COVID-19 TRONG TÌNH HÌNH MỚI ĐỐI VỚI LĨNH VỰC GIAO THÔNG VẬN TẢI (Ngày 23 tháng 11 năm 2021)\n",
    "        -Những từ này nếu không đưa về lower thì khi tách từ đa phần sẽ nhận định là danh từ, danh từ riêng,... ra kết quả không chính xác với nội dung của text\n",
    "    \"\"\"\n",
    "\n",
    "    postagging_text = ViPosTagger.postagging(ViTokenizer.tokenize(text)) #Dùng Vi để tách từ và gán postagger\n",
    "    text = filter_and_join_words(postagging_text, is_remove_np) #Loại bỏ các từ có postagger không cần thiết\n",
    "    text = re.sub(r'[^\\w\\s]', '', text) #Loại bỏ các ký tự đặc biệt thêm 1 lần nữa nếu sau khi tách từ vấn còn\n",
    "    word_tokens = text.split()\n",
    "    filtered_text = []\n",
    "    for word in word_tokens:\n",
    "        if word.lower() in stopwords:\n",
    "            stopwords_project.add(word.lower()) #Neu tu do thuoc stopwords thi them vao stopwords_project\n",
    "        else:\n",
    "            filtered_text.append(word)\n",
    "    filtered_text = [word for word in filtered_text if len(word) > 1] #Loại bỏ các từ đơn\n",
    "    filtered_text = ' '.join(filtered_text)\n",
    "    return filtered_text.lower() #Trả về text lower"
   ],
   "id": "c2aaa9f7e4d431b5",
   "outputs": [],
   "execution_count": 132
  },
  {
   "metadata": {
    "ExecuteTime": {
     "end_time": "2024-07-19T13:25:48.619431Z",
     "start_time": "2024-07-19T13:25:48.613013Z"
    }
   },
   "cell_type": "code",
   "source": "import pandas as pd",
   "id": "f6cb10586bdca354",
   "outputs": [],
   "execution_count": 133
  },
  {
   "metadata": {
    "ExecuteTime": {
     "end_time": "2024-07-19T13:25:51.312877Z",
     "start_time": "2024-07-19T13:25:51.307870Z"
    }
   },
   "cell_type": "code",
   "source": "path_input = '../Dataset/Root/data.csv'",
   "id": "c6df3a0eb4be9426",
   "outputs": [],
   "execution_count": 134
  },
  {
   "metadata": {
    "ExecuteTime": {
     "end_time": "2024-07-19T13:25:53.562997Z",
     "start_time": "2024-07-19T13:25:53.432428Z"
    }
   },
   "cell_type": "code",
   "source": [
    "df = pd.read_csv(path_input)\n",
    "df.info()"
   ],
   "id": "7f75a4ca219d324b",
   "outputs": [
    {
     "name": "stdout",
     "output_type": "stream",
     "text": [
      "<class 'pandas.core.frame.DataFrame'>\n",
      "RangeIndex: 19691 entries, 0 to 19690\n",
      "Data columns (total 2 columns):\n",
      " #   Column          Non-Null Count  Dtype \n",
      "---  ------          --------------  ----- \n",
      " 0   Trích yếu       19691 non-null  object\n",
      " 1   ID phòng xử lý  19691 non-null  int64 \n",
      "dtypes: int64(1), object(1)\n",
      "memory usage: 307.8+ KB\n"
     ]
    }
   ],
   "execution_count": 135
  },
  {
   "metadata": {
    "ExecuteTime": {
     "end_time": "2024-07-19T13:26:34.110163Z",
     "start_time": "2024-07-19T13:25:56.809387Z"
    }
   },
   "cell_type": "code",
   "source": "df['input'] = df['Trích yếu'].apply(lambda x: text_preprocess(x, True))",
   "id": "220db2933c6b7018",
   "outputs": [],
   "execution_count": 136
  },
  {
   "metadata": {
    "ExecuteTime": {
     "end_time": "2024-07-19T13:26:34.123447Z",
     "start_time": "2024-07-19T13:26:34.114209Z"
    }
   },
   "cell_type": "code",
   "source": "len(stopwords_project)",
   "id": "67bb8b3ced9f25a8",
   "outputs": [
    {
     "data": {
      "text/plain": [
       "252"
      ]
     },
     "execution_count": 137,
     "metadata": {},
     "output_type": "execute_result"
    }
   ],
   "execution_count": 137
  },
  {
   "metadata": {
    "ExecuteTime": {
     "end_time": "2024-07-19T13:26:34.133702Z",
     "start_time": "2024-07-19T13:26:34.125440Z"
    }
   },
   "cell_type": "code",
   "source": "df['ID phòng xử lý'].value_counts()",
   "id": "893f5511987a9034",
   "outputs": [
    {
     "data": {
      "text/plain": [
       "ID phòng xử lý\n",
       "2733546    7465\n",
       "2733552    7252\n",
       "2733540    2114\n",
       "2733570    1278\n",
       "2733522    1098\n",
       "2733534     484\n",
       "Name: count, dtype: int64"
      ]
     },
     "execution_count": 138,
     "metadata": {},
     "output_type": "execute_result"
    }
   ],
   "execution_count": 138
  },
  {
   "metadata": {
    "ExecuteTime": {
     "end_time": "2024-07-19T13:26:34.141666Z",
     "start_time": "2024-07-19T13:26:34.136656Z"
    }
   },
   "cell_type": "code",
   "source": [
    "def write_stopwords_to_file(stopwords_project, filename='stopwords_project.txt'):\n",
    "    with open(filename, 'w', encoding='utf-8') as file:\n",
    "        for stopword in stopwords_project:\n",
    "            file.write(f\"{stopword}\\n\")"
   ],
   "id": "e76c4fa25a7ea0ff",
   "outputs": [],
   "execution_count": 139
  },
  {
   "metadata": {
    "ExecuteTime": {
     "end_time": "2024-07-19T13:26:34.147566Z",
     "start_time": "2024-07-19T13:26:34.143204Z"
    }
   },
   "cell_type": "code",
   "source": "write_stopwords_to_file(stopwords_project, filename='../Dataset/Stopwords/stopwords_project_v1.txt')",
   "id": "63d34f96a4225af4",
   "outputs": [],
   "execution_count": 140
  },
  {
   "metadata": {
    "ExecuteTime": {
     "end_time": "2024-07-19T13:26:36.327074Z",
     "start_time": "2024-07-19T13:26:34.149562Z"
    }
   },
   "cell_type": "code",
   "source": [
    "word_counts = {}\n",
    "for index, row in df.iterrows():\n",
    "    words = str(row['input']).split()\n",
    "    for word in words:\n",
    "        if word in word_counts:\n",
    "            word_counts[word] += 1\n",
    "        else:\n",
    "            word_counts[word] = 1\n",
    "\n",
    "len(word_counts)"
   ],
   "id": "df47ebc842405650",
   "outputs": [
    {
     "data": {
      "text/plain": [
       "3453"
      ]
     },
     "execution_count": 141,
     "metadata": {},
     "output_type": "execute_result"
    }
   ],
   "execution_count": 141
  },
  {
   "metadata": {
    "ExecuteTime": {
     "end_time": "2024-07-19T13:26:38.489528Z",
     "start_time": "2024-07-19T13:26:36.329070Z"
    }
   },
   "cell_type": "code",
   "source": [
    "map_word_counts = {}\n",
    "for label in df['ID phòng xử lý'].unique():\n",
    "    get_df = df[df['ID phòng xử lý'] == label]\n",
    "    word_counts_index = {}\n",
    "    \n",
    "    for index, row in get_df.iterrows():\n",
    "        words = str(row['input']).split()\n",
    "        for word in words:\n",
    "            if word in word_counts_index:\n",
    "                word_counts_index[word] += 1\n",
    "            else:\n",
    "                word_counts_index[word] = 1\n",
    "    map_word_counts[f'{label}'] = word_counts_index"
   ],
   "id": "bbdbc86705dc7100",
   "outputs": [],
   "execution_count": 142
  },
  {
   "metadata": {
    "ExecuteTime": {
     "end_time": "2024-07-19T13:26:38.496107Z",
     "start_time": "2024-07-19T13:26:38.491523Z"
    }
   },
   "cell_type": "code",
   "source": [
    "for label in map_word_counts:\n",
    "    print(f'{label}: {len(map_word_counts[label])}')"
   ],
   "id": "95d279b6f6578dc3",
   "outputs": [
    {
     "name": "stdout",
     "output_type": "stream",
     "text": [
      "2733540: 988\n",
      "2733546: 1999\n",
      "2733570: 967\n",
      "2733552: 2473\n",
      "2733522: 986\n",
      "2733534: 591\n"
     ]
    }
   ],
   "execution_count": 143
  },
  {
   "metadata": {
    "ExecuteTime": {
     "end_time": "2024-07-19T13:26:38.506821Z",
     "start_time": "2024-07-19T13:26:38.497106Z"
    }
   },
   "cell_type": "code",
   "source": [
    "top_4_percent_words = {}\n",
    "for key, word_dict in map_word_counts.items():\n",
    "    sorted_words = sorted(word_dict.items(), key=lambda x: x[1], reverse=True)\n",
    "    num_words = max(1, len(sorted_words) // 40)\n",
    "    top_words = sorted_words[:num_words]\n",
    "    top_4_percent_words[key] = top_words"
   ],
   "id": "2912895e9e5e1840",
   "outputs": [],
   "execution_count": 144
  },
  {
   "metadata": {
    "ExecuteTime": {
     "end_time": "2024-07-19T13:26:38.516068Z",
     "start_time": "2024-07-19T13:26:38.510788Z"
    }
   },
   "cell_type": "code",
   "source": [
    "for key, value in top_4_percent_words.items():\n",
    "    print(f'{key}: {value}')\n",
    "    print(len(value))"
   ],
   "id": "bd356119ec3d92b4",
   "outputs": [
    {
     "name": "stdout",
     "output_type": "stream",
     "text": [
      "2733540: [('hành_chính', 1554), ('cải_cách', 1205), ('công_tác', 843), ('thành_phố', 789), ('kế_hoạch', 509), ('chỉ_số', 468), ('địa_bàn', 442), ('triển_khai', 322), ('góp_ý', 295), ('báo_cáo', 271), ('sở', 246), ('nhân_dân', 241), ('ủy_ban', 237), ('tổ_chức', 234), ('giai_đoạn', 229), ('dự_thảo', 218), ('thủ_tục', 206), ('hiệu_quả', 203), ('nâng', 197), ('giải_pháp', 195), ('ban', 190), ('nhiệm_vụ', 170), ('công', 164), ('kết_quả', 162)]\n",
      "24\n",
      "2733546: [('công_chức', 2322), ('viên_chức', 1797), ('bồi_dưỡng', 1503), ('báo_cáo', 1205), ('quản_lý', 1196), ('thành_phố', 1190), ('lớp', 1186), ('cán_bộ', 1185), ('công_tác', 961), ('đăng_ký', 955), ('nâng', 760), ('tham_dự', 715), ('đi', 687), ('ngạch', 650), ('lãnh_đạo', 571), ('đề_án', 556), ('nghị_định', 540), ('nđ', 538), ('tổ_chức', 529), ('nước_ngoài', 516), ('cp', 511), ('tham_gia', 494), ('góp_ý', 492), ('kết_quả', 481), ('kế_hoạch', 478), ('triển_khai', 477), ('chức_danh', 461), ('giai_đoạn', 452), ('dự_thảo', 451), ('chương_trình', 447), ('kiến_thức', 426), ('cử', 417), ('chuyên_viên', 414), ('nhân_dân', 410), ('lương', 377), ('đào_tạo', 372), ('địa_bàn', 366), ('xây_dựng', 343), ('nghề_nghiệp', 336), ('hành_chính', 328), ('sở', 328), ('ủy_ban', 318), ('phát_triển', 308), ('tuyển_dụng', 305), ('đề_nghị', 303), ('phòng', 302), ('nghiệp_vụ', 283), ('nhà_nước', 283), ('thi_tuyển', 279)]\n",
      "49\n",
      "2733570: [('báo_cáo', 376), ('phòng', 339), ('dịch', 338), ('chống', 333), ('hoạt_động', 329), ('covid', 287), ('thành_phố', 255), ('công_vụ', 241), ('công_tác', 223), ('quy_tắc', 205), ('ứng_xử', 205), ('đơn', 182), ('tình_hình', 177), ('địa_bàn', 160), ('ubnd', 150), ('hành_chính', 136), ('biện_pháp', 135), ('kiểm_tra', 120), ('sở', 117), ('ủy_ban', 114), ('nhân_dân', 113), ('công_chức', 112), ('triển_khai', 112), ('thanh_tra', 108)]\n",
      "24\n",
      "2733552: [('thành_phố', 2822), ('quản_lý', 1226), ('nhân_dân', 1192), ('ủy_ban', 1130), ('báo_cáo', 1057), ('tổ_chức', 1017), ('quyết_định', 985), ('ubnd', 985), ('dự_thảo', 868), ('kế_hoạch', 859), ('công_tác', 839), ('ban', 804), ('góp_ý', 745), ('nhiệm_vụ', 658), ('thành_lập', 599), ('sở', 547), ('giai_đoạn', 535), ('xây_dựng', 534), ('hoạt_động', 518), ('triển_khai', 497), ('công_ty', 492), ('nghị_quyết', 488), ('thành_viên', 482), ('kết_quả', 460), ('địa_bàn', 460), ('quyền', 457), ('huyện', 450), ('qđ', 441), ('tnhh', 434), ('đề_án', 429), ('phát_triển', 429), ('kết_luận', 418), ('nhà_nước', 415), ('hội_đồng', 404), ('ý_kiến', 403), ('quy_định', 393), ('biên_chế', 386), ('sự_nghiệp', 377), ('trường', 371), ('trung_tâm', 369), ('ban_hành', 369), ('công_văn', 364), ('đầu_tư', 363), ('chính_phủ', 350), ('công_lập', 342), ('chủ_tịch', 337), ('doanh_nghiệp', 336), ('chức_năng', 330), ('trực_thuộc', 329), ('hành_chính', 325), ('nghị_định', 322), ('lãnh_đạo', 319), ('cp', 318), ('bổ_sung', 317), ('quyền_hạn', 315), ('nđ', 311), ('tình_hình', 308), ('cơ_cấu', 304), ('đô_thị', 300), ('dự_án', 297), ('nq', 297)]\n",
      "61\n",
      "2733522: [('thi_đua', 480), ('thành_phố', 446), ('khen_thưởng', 254), ('phong_trào', 236), ('tổ_chức', 194), ('công_tác', 181), ('kế_hoạch', 162), ('đề_nghị', 141), ('tập_thể', 131), ('triển_khai', 129), ('tặng', 120), ('giai_đoạn', 116), ('dự_thảo', 116), ('địa_bàn', 112), ('nhân_dân', 112), ('góp_ý', 106), ('ủy_ban', 105), ('phát_động', 100), ('sáng_tạo', 100), ('sở', 98), ('báo_cáo', 93), ('yêu', 90), ('xuất_sắc', 90), ('công_văn', 80)]\n",
      "24\n",
      "2733534: [('lưu_trữ', 232), ('công_tác', 165), ('thành_phố', 152), ('kế_hoạch', 127), ('tài_liệu', 114), ('hồ_sơ', 76), ('văn_thư', 74), ('báo_cáo', 69), ('triển_khai', 63), ('công_văn', 55), ('trung_tâm', 51), ('dự_thảo', 50), ('nhà_nước', 48), ('sở', 48)]\n",
      "14\n"
     ]
    }
   ],
   "execution_count": 145
  },
  {
   "metadata": {
    "ExecuteTime": {
     "end_time": "2024-07-19T13:26:38.524725Z",
     "start_time": "2024-07-19T13:26:38.517055Z"
    }
   },
   "cell_type": "code",
   "source": [
    "from collections import defaultdict\n",
    "key_count = defaultdict(int)\n",
    "for top_words in top_4_percent_words.values():\n",
    "    for key, _ in top_words:\n",
    "        key_count[key] += 1\n",
    "keys_to_remove = {key for key, count in key_count.items() if count >=6}\n",
    "print(keys_to_remove)\n",
    "print(len(keys_to_remove))"
   ],
   "id": "2d38288af99e8d27",
   "outputs": [
    {
     "name": "stdout",
     "output_type": "stream",
     "text": [
      "{'triển_khai', 'báo_cáo', 'sở', 'công_tác', 'thành_phố'}\n",
      "5\n"
     ]
    }
   ],
   "execution_count": 146
  },
  {
   "metadata": {
    "ExecuteTime": {
     "end_time": "2024-07-19T13:26:45.338538Z",
     "start_time": "2024-07-19T13:26:45.330801Z"
    }
   },
   "cell_type": "code",
   "source": [
    "sorted_words_dataset = sorted(word_counts.items(), key=lambda x: x[1], reverse=True)\n",
    "num_words = max(1, len(sorted_words_dataset) // 50)\n",
    "top_words_DF = sorted_words_dataset[:num_words]\n",
    "print(top_words_DF)\n",
    "print(len(top_words_DF))"
   ],
   "id": "f1bc9357e0618266",
   "outputs": [
    {
     "name": "stdout",
     "output_type": "stream",
     "text": [
      "[('thành_phố', 5654), ('công_tác', 3212), ('báo_cáo', 3071), ('công_chức', 2763), ('quản_lý', 2699), ('hành_chính', 2415), ('kế_hoạch', 2219), ('nhân_dân', 2115), ('viên_chức', 2100), ('tổ_chức', 2091), ('ủy_ban', 1946), ('dự_thảo', 1723), ('góp_ý', 1694), ('cán_bộ', 1628), ('triển_khai', 1600), ('ubnd', 1586), ('địa_bàn', 1583), ('bồi_dưỡng', 1578), ('quyết_định', 1539), ('cải_cách', 1525), ('giai_đoạn', 1395), ('sở', 1384), ('ban', 1369), ('kết_quả', 1249), ('lớp', 1222), ('nhiệm_vụ', 1188), ('đăng_ký', 1178), ('đề_án', 1177), ('hoạt_động', 1112), ('nâng', 1068), ('xây_dựng', 1045), ('lãnh_đạo', 1003), ('phòng', 987), ('công_văn', 938), ('nhà_nước', 925), ('nghị_định', 904), ('tham_gia', 879), ('nđ', 878), ('cp', 864), ('nghị_quyết', 861), ('phát_triển', 846), ('huyện', 846), ('kết_luận', 840), ('chương_trình', 829), ('tham_dự', 767), ('đề_nghị', 767), ('thành_lập', 724), ('đi', 719), ('chống', 706), ('tình_hình', 697), ('thi_đua', 695), ('hội_đồng', 692), ('kết_quả_thực_hiện', 674), ('quy_định', 670), ('ngạch', 667), ('ban_hành', 666), ('nội_dung', 635), ('chức_danh', 635), ('biên_chế', 629), ('cơ_quan', 622), ('qđ', 621), ('ý_kiến', 618), ('bổ_sung', 618), ('nước_ngoài', 602), ('chính_phủ', 601), ('thành_viên', 598), ('chỉ_số', 597), ('thanh_tra', 594), ('hiệu_quả', 582)]\n",
      "69\n"
     ]
    }
   ],
   "execution_count": 147
  },
  {
   "metadata": {
    "ExecuteTime": {
     "end_time": "2024-07-19T13:26:48.096874Z",
     "start_time": "2024-07-19T13:26:48.090878Z"
    }
   },
   "cell_type": "code",
   "source": [
    "top_words_DF_set = {word for word, _ in top_words_DF}\n",
    "print(top_words_DF_set)\n",
    "print(len(top_words_DF_set))"
   ],
   "id": "8eb697f9fc8ff46d",
   "outputs": [
    {
     "name": "stdout",
     "output_type": "stream",
     "text": [
      "{'cải_cách', 'quyết_định', 'tham_dự', 'chỉ_số', 'dự_thảo', 'nâng', 'công_văn', 'giai_đoạn', 'nđ', 'kết_luận', 'đăng_ký', 'đi', 'ban', 'ủy_ban', 'kết_quả', 'bồi_dưỡng', 'đề_án', 'hành_chính', 'quy_định', 'nhà_nước', 'lãnh_đạo', 'tình_hình', 'chức_danh', 'biên_chế', 'phát_triển', 'ý_kiến', 'góp_ý', 'thành_lập', 'lớp', 'báo_cáo', 'qđ', 'hoạt_động', 'nghị_quyết', 'sở', 'chống', 'phòng', 'ngạch', 'chính_phủ', 'thành_viên', 'viên_chức', 'nội_dung', 'nước_ngoài', 'ubnd', 'cơ_quan', 'tổ_chức', 'công_tác', 'xây_dựng', 'nghị_định', 'tham_gia', 'nhiệm_vụ', 'huyện', 'kế_hoạch', 'thi_đua', 'chương_trình', 'kết_quả_thực_hiện', 'cán_bộ', 'đề_nghị', 'hiệu_quả', 'cp', 'triển_khai', 'ban_hành', 'nhân_dân', 'hội_đồng', 'thanh_tra', 'thành_phố', 'địa_bàn', 'bổ_sung', 'công_chức', 'quản_lý'}\n",
      "69\n"
     ]
    }
   ],
   "execution_count": 148
  },
  {
   "metadata": {
    "ExecuteTime": {
     "end_time": "2024-07-19T13:26:50.781418Z",
     "start_time": "2024-07-19T13:26:50.774753Z"
    }
   },
   "cell_type": "code",
   "source": [
    "get_more_stopwords = top_words_DF_set & keys_to_remove\n",
    "print(get_more_stopwords)\n",
    "print(len(get_more_stopwords))"
   ],
   "id": "37dad3ea3f762e47",
   "outputs": [
    {
     "name": "stdout",
     "output_type": "stream",
     "text": [
      "{'triển_khai', 'báo_cáo', 'sở', 'công_tác', 'thành_phố'}\n",
      "5\n"
     ]
    }
   ],
   "execution_count": 149
  },
  {
   "metadata": {
    "ExecuteTime": {
     "end_time": "2024-07-19T13:26:52.744112Z",
     "start_time": "2024-07-19T13:26:52.733538Z"
    }
   },
   "cell_type": "code",
   "source": [
    "#Stopwords\n",
    "stopwords_project = set()\n",
    "#open file stopword\n",
    "with open('../Dataset/Stopwords/stopwords_project_v1.txt', \"r\", encoding='utf-8') as file:\n",
    "  word = file.readlines()\n",
    "stopwords_project = [n.replace('\\n', '') for n in word]\n",
    "print(len(stopwords_project))"
   ],
   "id": "47ab077d9a24fdff",
   "outputs": [
    {
     "name": "stdout",
     "output_type": "stream",
     "text": [
      "252\n"
     ]
    }
   ],
   "execution_count": 150
  },
  {
   "metadata": {
    "ExecuteTime": {
     "end_time": "2024-07-19T13:26:55.093595Z",
     "start_time": "2024-07-19T13:26:55.085381Z"
    }
   },
   "cell_type": "code",
   "source": [
    "for word in get_more_stopwords:\n",
    "    stopwords_project.append(word)\n",
    "print(len(stopwords_project))"
   ],
   "id": "94dcb5628a1dd41a",
   "outputs": [
    {
     "name": "stdout",
     "output_type": "stream",
     "text": [
      "257\n"
     ]
    }
   ],
   "execution_count": 151
  },
  {
   "metadata": {
    "ExecuteTime": {
     "end_time": "2024-07-19T13:26:57.496710Z",
     "start_time": "2024-07-19T13:26:57.488748Z"
    }
   },
   "cell_type": "code",
   "source": "write_stopwords_to_file(stopwords_project, filename='../Dataset/Stopwords/stopwords_project_v2.txt')",
   "id": "2b9598d706a0f7a2",
   "outputs": [],
   "execution_count": 152
  }
 ],
 "metadata": {
  "kernelspec": {
   "display_name": "Python 3",
   "language": "python",
   "name": "python3"
  },
  "language_info": {
   "codemirror_mode": {
    "name": "ipython",
    "version": 2
   },
   "file_extension": ".py",
   "mimetype": "text/x-python",
   "name": "python",
   "nbconvert_exporter": "python",
   "pygments_lexer": "ipython2",
   "version": "2.7.6"
  }
 },
 "nbformat": 4,
 "nbformat_minor": 5
}
