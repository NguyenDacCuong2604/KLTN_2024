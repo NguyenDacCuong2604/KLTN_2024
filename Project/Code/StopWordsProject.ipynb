{
 "cells": [
  {
   "cell_type": "code",
   "id": "initial_id",
   "metadata": {
    "collapsed": true,
    "ExecuteTime": {
     "end_time": "2024-07-21T14:57:18.728865Z",
     "start_time": "2024-07-21T14:57:18.692545Z"
    }
   },
   "source": [
    "import re\n",
    "\n",
    "def loaddictchar():\n",
    "    dic = {}\n",
    "    char1252 = 'à|á|ả|ã|ạ|ầ|ấ|ẩ|ẫ|ậ|ằ|ắ|ẳ|ẵ|ặ|è|é|ẻ|ẽ|ẹ|ề|ế|ể|ễ|ệ|ì|í|ỉ|ĩ|ị|ò|ó|ỏ|õ|ọ|ồ|ố|ổ|ỗ|ộ|ờ|ớ|ở|ỡ|ợ|ù|ú|ủ|ũ|ụ|ừ|ứ|ử|ữ|ự|ỳ|ý|ỷ|ỹ|ỵ|À|Á|Ả|Ã|Ạ|Ầ|Ấ|Ẩ|Ẫ|Ậ|Ằ|Ắ|Ẳ|Ẵ|Ặ|È|É|Ẻ|Ẽ|Ẹ|Ề|Ế|Ể|Ễ|Ệ|Ì|Í|Ỉ|Ĩ|Ị|Ò|Ó|Ỏ|Õ|Ọ|Ồ|Ố|Ổ|Ỗ|Ộ|Ờ|Ớ|Ở|Ỡ|Ợ|Ù|Ú|Ủ|Ũ|Ụ|Ừ|Ứ|Ử|Ữ|Ự|Ỳ|Ý|Ỷ|Ỹ|Ỵ'.split('|')\n",
    "    charutf8 = \"à|á|ả|ã|ạ|ầ|ấ|ẩ|ẫ|ậ|ằ|ắ|ẳ|ẵ|ặ|è|é|ẻ|ẽ|ẹ|ề|ế|ể|ễ|ệ|ì|í|ỉ|ĩ|ị|ò|ó|ỏ|õ|ọ|ồ|ố|ổ|ỗ|ộ|ờ|ớ|ở|ỡ|ợ|ù|ú|ủ|ũ|ụ|ừ|ứ|ử|ữ|ự|ỳ|ý|ỷ|ỹ|ỵ|À|Á|Ả|Ã|Ạ|Ầ|Ấ|Ẩ|Ẫ|Ậ|Ằ|Ắ|Ẳ|Ẵ|Ặ|È|É|Ẻ|Ẽ|Ẹ|Ề|Ế|Ể|Ễ|Ệ|Ì|Í|Ỉ|Ĩ|Ị|Ò|Ó|Ỏ|Õ|Ọ|Ồ|Ố|Ổ|Ỗ|Ộ|Ờ|Ớ|Ở|Ỡ|Ợ|Ù|Ú|Ủ|Ũ|Ụ|Ừ|Ứ|Ử|Ữ|Ự|Ỳ|Ý|Ỷ|Ỹ|Ỵ\".split('|')\n",
    "    for i in range(len(char1252)):\n",
    "        dic[char1252[i]] = charutf8[i]\n",
    "    return dic\n",
    "\n",
    "dicchar = loaddictchar()\n",
    "\n",
    "#Đưa văn bản về bộ mã tiếng Việt utf-8\n",
    "def convertwindown1525toutf8(txt):\n",
    "    return re.sub(r'à|á|ả|ã|ạ|ầ|ấ|ẩ|ẫ|ậ|ằ|ắ|ẳ|ẵ|ặ|è|é|ẻ|ẽ|ẹ|ề|ế|ể|ễ|ệ|ì|í|ỉ|ĩ|ị|ò|ó|ỏ|õ|ọ|ồ|ố|ổ|ỗ|ộ|ờ|ớ|ở|ỡ|ợ|ù|ú|ủ|ũ|ụ|ừ|ứ|ử|ữ|ự|ỳ|ý|ỷ|ỹ|ỵ|À|Á|Ả|Ã|Ạ|Ầ|Ấ|Ẩ|Ẫ|Ậ|Ằ|Ắ|Ẳ|Ẵ|Ặ|È|É|Ẻ|Ẽ|Ẹ|Ề|Ế|Ể|Ễ|Ệ|Ì|Í|Ỉ|Ĩ|Ị|Ò|Ó|Ỏ|Õ|Ọ|Ồ|Ố|Ổ|Ỗ|Ộ|Ờ|Ớ|Ở|Ỡ|Ợ|Ù|Ú|Ủ|Ũ|Ụ|Ừ|Ứ|Ử|Ữ|Ự|Ỳ|Ý|Ỷ|Ỹ|Ỵ',\n",
    "                  lambda x: dicchar[x.group()], txt)\n",
    "\n",
    "bang_nguyen_am = [['a', 'à', 'á', 'ả', 'ã', 'ạ'],\n",
    "                  ['ă', 'ằ', 'ắ', 'ẳ', 'ẵ', 'ặ'],\n",
    "                  ['â', 'ầ', 'ấ', 'ẩ', 'ẫ', 'ậ'],\n",
    "                  ['e', 'è', 'é', 'ẻ', 'ẽ', 'ẹ'],\n",
    "                  ['ê', 'ề', 'ế', 'ể', 'ễ', 'ệ'],\n",
    "                  ['i', 'ì', 'í', 'ỉ', 'ĩ', 'ị'],\n",
    "                  ['o', 'ò', 'ó', 'ỏ', 'õ', 'ọ'],\n",
    "                  ['ô', 'ồ', 'ố', 'ổ', 'ỗ', 'ộ'],\n",
    "                  ['ơ', 'ờ', 'ớ', 'ở', 'ỡ', 'ợ'],\n",
    "                  ['u', 'ù', 'ú', 'ủ', 'ũ', 'ụ'],\n",
    "                  ['ư', 'ừ', 'ứ', 'ử', 'ữ', 'ự'],\n",
    "                  ['y', 'ỳ', 'ý', 'ỷ', 'ỹ', 'ỵ']]\n",
    "\n",
    "nguyen_am_to_ids = {}\n",
    "\n",
    "for i in range(len(bang_nguyen_am)):\n",
    "    for j in range(len(bang_nguyen_am[i])):\n",
    "        nguyen_am_to_ids[bang_nguyen_am[i][j]] = (i, j)\n",
    "\n",
    "def is_valid_vietnam_word(word):\n",
    "    chars = list(word)\n",
    "    nguyen_am_index = -1\n",
    "    for index, char in enumerate(chars):\n",
    "        x, y = nguyen_am_to_ids.get(char, (-1, -1))\n",
    "        if x != -1:\n",
    "            if nguyen_am_index == -1:\n",
    "                nguyen_am_index = index\n",
    "            else:\n",
    "                if index - nguyen_am_index != 1:\n",
    "                    return False\n",
    "                nguyen_am_index = index\n",
    "    return True\n",
    "\n",
    "#Sửa lỗi sử dụng các dấu thanh kiểu cũ (òa, úy thay vì oà, uý)\n",
    "def chuan_hoa_dau_tu_tieng_viet(word):\n",
    "    if not is_valid_vietnam_word(word):\n",
    "        return word\n",
    "\n",
    "    chars = list(word)\n",
    "    dau_cau = 0\n",
    "    nguyen_am_index = []\n",
    "    qu_or_gi = False\n",
    "    for index, char in enumerate(chars):\n",
    "        x, y = nguyen_am_to_ids.get(char, (-1, -1))\n",
    "        if x == -1:\n",
    "            continue\n",
    "        elif x == 9:  # check qu\n",
    "            if index != 0 and chars[index - 1] == 'q':\n",
    "                chars[index] = 'u'\n",
    "                qu_or_gi = True\n",
    "        elif x == 5:  # check gi\n",
    "            if index != 0 and chars[index - 1] == 'g':\n",
    "                chars[index] = 'i'\n",
    "                qu_or_gi = True\n",
    "        if y != 0:\n",
    "            dau_cau = y\n",
    "            chars[index] = bang_nguyen_am[x][0]\n",
    "        if not qu_or_gi or index != 1:\n",
    "            nguyen_am_index.append(index)\n",
    "    if len(nguyen_am_index) < 2:\n",
    "        if qu_or_gi:\n",
    "            if len(chars) == 2:\n",
    "                x, y = nguyen_am_to_ids.get(chars[1])\n",
    "                chars[1] = bang_nguyen_am[x][dau_cau]\n",
    "            else:\n",
    "                x, y = nguyen_am_to_ids.get(chars[2], (-1, -1))\n",
    "                if x != -1:\n",
    "                    chars[2] = bang_nguyen_am[x][dau_cau]\n",
    "                else:\n",
    "                    chars[1] = bang_nguyen_am[5][dau_cau] if chars[1] == 'i' else bang_nguyen_am[9][dau_cau]\n",
    "            return ''.join(chars)\n",
    "        return word\n",
    "\n",
    "    for index in nguyen_am_index:\n",
    "        x, y = nguyen_am_to_ids[chars[index]]\n",
    "        if x == 4 or x == 8:  # ê, ơ\n",
    "            chars[index] = bang_nguyen_am[x][dau_cau]\n",
    "            return ''.join(chars)\n",
    "\n",
    "    if len(nguyen_am_index) == 2:\n",
    "        if nguyen_am_index[-1] == len(chars) - 1:\n",
    "            x, y = nguyen_am_to_ids[chars[nguyen_am_index[0]]]\n",
    "            chars[nguyen_am_index[0]] = bang_nguyen_am[x][dau_cau]\n",
    "        else:\n",
    "            x, y = nguyen_am_to_ids[chars[nguyen_am_index[1]]]\n",
    "            chars[nguyen_am_index[1]] = bang_nguyen_am[x][dau_cau]\n",
    "    else:\n",
    "        x, y = nguyen_am_to_ids[chars[nguyen_am_index[1]]]\n",
    "        chars[nguyen_am_index[1]] = bang_nguyen_am[x][dau_cau]\n",
    "    return ''.join(chars)\n",
    "\n",
    "\n",
    "def chuan_hoa_dau_cau_tieng_viet(sentence):\n",
    "    sentence = convertwindown1525toutf8(sentence)\n",
    "\n",
    "    ##Do nếu không tách các ký tự đặc biệt ra từng từ, thì def chuan_hoa_dau_tu_tieng_viet sẽ sửa dấu sai\n",
    "    # Sử dụng regex để tách các từ và ký tự đặc biệt\n",
    "    words_with_indices = [(match.group(), match.start()) for match in re.finditer(r'\\w+|[^\\w\\s]', sentence)]\n",
    "\n",
    "    # Chuẩn hóa từng từ tiếng Việt\n",
    "    for index, (word, pos) in enumerate(words_with_indices):\n",
    "        if word.isalnum():  # Chỉ chuẩn hóa nếu từ là chữ cái hoặc số\n",
    "            words_with_indices[index] = (chuan_hoa_dau_tu_tieng_viet(word.lower()), pos)\n",
    "\n",
    "    # Khôi phục lại câu với các ký tự đặc biệt đúng vị trí và giữ nguyên viết hoa viết thường\n",
    "    result = list(sentence)\n",
    "    for word, pos in words_with_indices:\n",
    "        for i, char in enumerate(word):\n",
    "            if sentence[pos + i].isupper():\n",
    "                result[pos + i] = char.upper()\n",
    "            else:\n",
    "                result[pos + i] = char\n",
    "\n",
    "    return ''.join(result)"
   ],
   "outputs": [],
   "execution_count": 1
  },
  {
   "metadata": {
    "ExecuteTime": {
     "end_time": "2024-07-21T14:57:45.073164Z",
     "start_time": "2024-07-21T14:57:45.066629Z"
    }
   },
   "cell_type": "code",
   "source": [
    "# Np - Proper noun\n",
    "# M - Numeral\n",
    "# F - Filtered out (punctuation)\n",
    "def filter_and_join_words(tagged_sentence, is_remove_np):\n",
    "    exclude_pos_tags = ['M', 'F']\n",
    "    if is_remove_np:\n",
    "        exclude_pos_tags.append('Np')\n",
    "\n",
    "    \"\"\"\n",
    "    Remove words that have postags in the exclude_pos_tags list from the tagged_sentence and join the remaining words with spaces.\n",
    "\n",
    "    Parameters:\n",
    "    tagged_sentence (tuple of list of str): The tuple containing two lists: words and postags.\n",
    "    exclude_pos_tags (list of str): The list of postags to exclude.\n",
    "\n",
    "    Returns:\n",
    "    str: The filtered words joined by spaces.\n",
    "    \"\"\"\n",
    "    words, postags = tagged_sentence\n",
    "    filtered_words = []\n",
    "\n",
    "    for word, postag in zip(words, postags):\n",
    "        if postag not in exclude_pos_tags:\n",
    "            filtered_words.append(word)\n",
    "\n",
    "    return ' '.join(filtered_words)"
   ],
   "id": "b47600bc325e5816",
   "outputs": [],
   "execution_count": 2
  },
  {
   "metadata": {
    "ExecuteTime": {
     "end_time": "2024-07-21T15:01:15.720376Z",
     "start_time": "2024-07-21T15:01:15.716132Z"
    }
   },
   "cell_type": "code",
   "source": [
    "stopwords = set()\n",
    "stopwords_project = set()"
   ],
   "id": "971ade3473c0c434",
   "outputs": [],
   "execution_count": 11
  },
  {
   "metadata": {
    "ExecuteTime": {
     "end_time": "2024-07-21T15:01:17.774679Z",
     "start_time": "2024-07-21T15:01:17.764565Z"
    }
   },
   "cell_type": "code",
   "source": [
    "from pyvi import ViTokenizer, ViPosTagger\n",
    "def text_preprocess(text, is_remove_np):\n",
    "    text = chuan_hoa_dau_cau_tieng_viet(text) #Chuẩn hóa dấu câu tiếng việt và chuyển đổi Windown1525 thành UTF8\n",
    "    text = text.replace('_x000D_', '') # _x000D_ là mã Unicode biểu diễn ký tự xuống dòng (CR-Carriage Return) (Cái này khi up file excel, mở bằng GG Sheets sẽ bị ở những chổ xuống dòng dữ liệu '\\n')\n",
    "\n",
    "    # Kiểm tra tỷ lệ ký tự viết hoa trong văn bản\n",
    "    upper_case_chars = sum(1 for char in text if char.isupper())\n",
    "    total_chars = len(text)\n",
    "    if upper_case_chars / total_chars >= 0.9:\n",
    "        text = text.lower() #Nếu tỷ lệ ký tự viết hoa cao hơn 90%, chuyển đổi văn bản thành viết thường\n",
    "    \"\"\"\n",
    "    Ví dụ:   V/V CỬ NHÂN SỰ THAM GIA TỔ CÔNG TÁC VÀ TỔ GIÚP VIỆC XÂY DỰNG ĐỀ ÁN PHÂN CẤP, ỦY QUYỀN\n",
    "             BÁO CÁO VỀ TỔ CHỨC HOẠT ĐỘNG VẬN TẢI PHÒNG, CHỐNG DỊCH COVID-19 TRONG TÌNH HÌNH MỚI ĐỐI VỚI LĨNH VỰC GIAO THÔNG VẬN TẢI (Ngày 23 tháng 11 năm 2021)\n",
    "        -Những từ này nếu không đưa về lower thì khi tách từ đa phần sẽ nhận định là danh từ, danh từ riêng,... ra kết quả không chính xác với nội dung của text\n",
    "    \"\"\"\n",
    "\n",
    "    postagging_text = ViPosTagger.postagging(ViTokenizer.tokenize(text)) #Dùng Vi để tách từ và gán postagger\n",
    "    text = filter_and_join_words(postagging_text, is_remove_np) #Loại bỏ các từ có postagger không cần thiết\n",
    "    text = re.sub(r'[^\\w\\s]', '', text) #Loại bỏ các ký tự đặc biệt thêm 1 lần nữa nếu sau khi tách từ vấn còn\n",
    "    word_tokens = text.split()\n",
    "    filtered_text = []\n",
    "    for word in word_tokens:\n",
    "        if word.lower() in stopwords:\n",
    "            stopwords_project.add(word.lower()) #Neu tu do thuoc stopwords thi them vao stopwords_project\n",
    "        else:\n",
    "            filtered_text.append(word)\n",
    "    filtered_text = [word for word in filtered_text if len(word) > 1] #Loại bỏ các từ đơn\n",
    "    filtered_text = ' '.join(filtered_text)\n",
    "    return filtered_text.lower() #Trả về text lower"
   ],
   "id": "ab00d97c2f0970ef",
   "outputs": [],
   "execution_count": 12
  },
  {
   "metadata": {
    "ExecuteTime": {
     "end_time": "2024-07-21T14:58:38.233658Z",
     "start_time": "2024-07-21T14:58:37.686142Z"
    }
   },
   "cell_type": "code",
   "source": "import pandas as pd",
   "id": "7fb795414de025a8",
   "outputs": [],
   "execution_count": 4
  },
  {
   "metadata": {
    "ExecuteTime": {
     "end_time": "2024-07-21T14:58:46.142612Z",
     "start_time": "2024-07-21T14:58:46.138332Z"
    }
   },
   "cell_type": "code",
   "source": "path_input = '../Dataset/Root/data.csv'",
   "id": "d6c05e3eaa5b3d78",
   "outputs": [],
   "execution_count": 5
  },
  {
   "metadata": {
    "ExecuteTime": {
     "end_time": "2024-07-21T15:01:21.317613Z",
     "start_time": "2024-07-21T15:01:21.203243Z"
    }
   },
   "cell_type": "code",
   "source": [
    "df = pd.read_csv(path_input)\n",
    "df.info()"
   ],
   "id": "d8061606d6556076",
   "outputs": [
    {
     "name": "stdout",
     "output_type": "stream",
     "text": [
      "<class 'pandas.core.frame.DataFrame'>\n",
      "RangeIndex: 19691 entries, 0 to 19690\n",
      "Data columns (total 2 columns):\n",
      " #   Column          Non-Null Count  Dtype \n",
      "---  ------          --------------  ----- \n",
      " 0   Trích yếu       19691 non-null  object\n",
      " 1   ID phòng xử lý  19691 non-null  int64 \n",
      "dtypes: int64(1), object(1)\n",
      "memory usage: 307.8+ KB\n"
     ]
    }
   ],
   "execution_count": 13
  },
  {
   "metadata": {
    "ExecuteTime": {
     "end_time": "2024-07-21T15:01:49.477287Z",
     "start_time": "2024-07-21T15:01:23.641034Z"
    }
   },
   "cell_type": "code",
   "source": "df['input'] = df['Trích yếu'].apply(lambda x: text_preprocess(x, False))",
   "id": "128c3d19579b0f89",
   "outputs": [],
   "execution_count": 14
  },
  {
   "metadata": {
    "ExecuteTime": {
     "end_time": "2024-07-21T15:01:52.926643Z",
     "start_time": "2024-07-21T15:01:52.918106Z"
    }
   },
   "cell_type": "code",
   "source": "df['ID phòng xử lý'].value_counts()",
   "id": "9e224243b99b0c02",
   "outputs": [
    {
     "data": {
      "text/plain": [
       "ID phòng xử lý\n",
       "2733546    7465\n",
       "2733552    7252\n",
       "2733540    2114\n",
       "2733570    1278\n",
       "2733522    1098\n",
       "2733534     484\n",
       "Name: count, dtype: int64"
      ]
     },
     "execution_count": 15,
     "metadata": {},
     "output_type": "execute_result"
    }
   ],
   "execution_count": 15
  },
  {
   "metadata": {
    "ExecuteTime": {
     "end_time": "2024-07-21T15:01:56.868060Z",
     "start_time": "2024-07-21T15:01:54.994923Z"
    }
   },
   "cell_type": "code",
   "source": [
    "word_counts = {}\n",
    "for index, row in df.iterrows():\n",
    "    words = str(row['input']).split()\n",
    "    for word in words:\n",
    "        if word in word_counts:\n",
    "            word_counts[word] += 1\n",
    "        else:\n",
    "            word_counts[word] = 1\n",
    "\n",
    "len(word_counts)"
   ],
   "id": "98d1926057d95dee",
   "outputs": [
    {
     "data": {
      "text/plain": [
       "5494"
      ]
     },
     "execution_count": 16,
     "metadata": {},
     "output_type": "execute_result"
    }
   ],
   "execution_count": 16
  },
  {
   "metadata": {
    "ExecuteTime": {
     "end_time": "2024-07-21T15:02:15.066603Z",
     "start_time": "2024-07-21T15:02:15.061141Z"
    }
   },
   "cell_type": "code",
   "source": [
    "def write_stopwords_to_file(stopwords_project, filename='stopwords_project.txt'):\n",
    "    with open(filename, 'w', encoding='utf-8') as file:\n",
    "        for stopword in stopwords_project:\n",
    "            file.write(f\"{stopword}\\n\")"
   ],
   "id": "5d31e19720fc4e6f",
   "outputs": [],
   "execution_count": 17
  },
  {
   "metadata": {
    "ExecuteTime": {
     "end_time": "2024-07-21T15:02:35.294830Z",
     "start_time": "2024-07-21T15:02:32.999085Z"
    }
   },
   "cell_type": "code",
   "source": [
    "map_word_counts = {}\n",
    "for label in df['ID phòng xử lý'].unique():\n",
    "    get_df = df[df['ID phòng xử lý'] == label]\n",
    "    word_counts_index = {}\n",
    "    \n",
    "    for index, row in get_df.iterrows():\n",
    "        words = str(row['input']).split()\n",
    "        for word in words:\n",
    "            if word in word_counts_index:\n",
    "                word_counts_index[word] += 1\n",
    "            else:\n",
    "                word_counts_index[word] = 1\n",
    "    map_word_counts[f'{label}'] = word_counts_index"
   ],
   "id": "1dc2e59fc6587694",
   "outputs": [],
   "execution_count": 18
  },
  {
   "metadata": {
    "ExecuteTime": {
     "end_time": "2024-07-21T15:02:50.424788Z",
     "start_time": "2024-07-21T15:02:50.420249Z"
    }
   },
   "cell_type": "code",
   "source": [
    "for label in map_word_counts:\n",
    "    print(f'{label}: {len(map_word_counts[label])}')"
   ],
   "id": "2920e0a6ac89ee17",
   "outputs": [
    {
     "name": "stdout",
     "output_type": "stream",
     "text": [
      "2733540: 1239\n",
      "2733546: 3373\n",
      "2733570: 1304\n",
      "2733552: 3487\n",
      "2733522: 1244\n",
      "2733534: 754\n"
     ]
    }
   ],
   "execution_count": 19
  },
  {
   "metadata": {
    "ExecuteTime": {
     "end_time": "2024-07-21T15:03:39.368870Z",
     "start_time": "2024-07-21T15:03:39.358249Z"
    }
   },
   "cell_type": "code",
   "source": [
    "top_4_percent_words = {}\n",
    "for key, word_dict in map_word_counts.items():\n",
    "    sorted_words = sorted(word_dict.items(), key=lambda x: x[1], reverse=True)\n",
    "    num_words = max(1, len(sorted_words) // 25)\n",
    "    top_words = sorted_words[:num_words]\n",
    "    top_4_percent_words[key] = top_words"
   ],
   "id": "e5856dd4b1fb9065",
   "outputs": [],
   "execution_count": 20
  },
  {
   "metadata": {
    "ExecuteTime": {
     "end_time": "2024-07-21T15:03:48.215382Z",
     "start_time": "2024-07-21T15:03:48.208381Z"
    }
   },
   "cell_type": "code",
   "source": [
    "for key, value in top_4_percent_words.items():\n",
    "    print(f'{key}: {value}')\n",
    "    print(len(value))"
   ],
   "id": "540440ce505f8796",
   "outputs": [
    {
     "name": "stdout",
     "output_type": "stream",
     "text": [
      "2733540: [('hành_chính', 1554), ('năm', 1453), ('cải_cách', 1206), ('về', 920), ('và', 891), ('của', 862), ('công_tác', 843), ('thành_phố', 789), ('thực_hiện', 596), ('kế_hoạch', 510), ('trên', 477), ('chỉ_số', 468), ('địa_bàn', 442), ('sở', 400), ('các', 389), ('tháng', 372), ('việc', 372), ('ngày', 326), ('triển_khai', 322), ('góp_ý', 295), ('báo_cáo', 271), ('tại', 264), ('quận', 244), ('nhân_dân', 241), ('trong', 237), ('ủy_ban', 237), ('ban', 236), ('tổ_chức', 234), ('quý', 234), ('giai_đoạn', 229), ('dự_thảo', 218), ('hồ_chí_minh', 215), ('thủ_tục', 206), ('hiệu_quả', 203), ('cấp', 201), ('nâng', 199), ('cao', 197), ('giải_pháp', 195), ('số', 180), ('nhiệm_vụ', 170), ('nội_vụ', 170), ('công', 164), ('cchc', 163), ('kết_quả', 162), ('đánh_giá', 159), ('cải_thiện', 159), ('chỉ_đạo', 157), ('giải_quyết', 156), ('tỉnh', 142)]\n",
      "49\n",
      "2733546: [('về', 4517), ('năm', 3642), ('và', 2349), ('công_chức', 2322), ('việc', 1857), ('viên_chức', 1797), ('của', 1654), ('bồi_dưỡng', 1503), ('số', 1339), ('lớp', 1220), ('báo_cáo', 1205), ('quản_lý', 1196), ('thành_phố', 1193), ('cán_bộ', 1185), ('thực_hiện', 992), ('công_tác', 961), ('đăng_ký', 955), ('đối_với', 947), ('các', 780), ('nâng', 777), ('ngày', 755), ('tháng', 739), ('tham_dự', 715), ('đi', 687), ('ngạch', 652), ('theo', 646), ('tại', 609), ('cho', 590), ('lãnh_đạo', 571), ('cấp', 566), ('đề_án', 556), ('cp', 553), ('nghị_định', 542), ('nđ', 538), ('tổ_chức', 529), ('nước_ngoài', 516), ('sở', 503), ('tham_gia', 494), ('góp_ý', 492), ('kết_quả', 481), ('kế_hoạch', 478), ('triển_khai', 477), ('ông', 473), ('chức_danh', 461), ('giai_đoạn', 452), ('dự_thảo', 451), ('chương_trình', 447), ('kiến_thức', 426), ('cử', 424), ('chuyên_viên', 414), ('trong', 413), ('nhân_dân', 410), ('hồ_chí_minh', 400), ('người', 399), ('trên', 396), ('lương', 385), ('đào_tạo', 372), ('địa_bàn', 366), ('xây_dựng', 346), ('nội_vụ', 345), ('nghề_nghiệp', 336), ('hành_chính', 328), ('ủy_ban', 318), ('ban', 317), ('đơn_vị', 311), ('phòng', 311), ('phát_triển', 308), ('quận', 307), ('tuyển_dụng', 305), ('đề_nghị', 303), ('nghiệp_vụ', 283), ('nhà_nước', 283), ('thi_tuyển', 279), ('danh_sách', 272), ('nghị_quyết', 271), ('vị_trí', 270), ('thi', 269), ('bậc', 268), ('quyết_định', 268), ('bổ_nhiệm', 267), ('viên', 259), ('riêng', 256), ('thăng_hạng', 256), ('đánh_giá', 254), ('chính_trị', 254), ('chính', 253), ('kết_luận', 252), ('chuyển', 248), ('ubnd', 248), ('đến', 247), ('công_văn', 243), ('xã_hội', 230), ('biên_chế', 230), ('bổ_sung', 225), ('thuộc', 224), ('phép', 223), ('nhu_cầu', 222), ('thanh_tra', 222), ('bà', 219), ('công_vụ', 216), ('tw', 214), ('kỳ', 213), ('luật', 209), ('cơ_quan', 206), ('huyện', 203), ('số_liệu', 201), ('hướng_dẫn', 200), ('việc_làm', 197), ('nq', 196), ('nhiệm_vụ', 195), ('hội_đồng', 190), ('chuyển_đổi', 190), ('số_lượng', 184), ('rà_soát', 184), ('khóa', 183), ('từ', 181), ('đề_xuất', 181), ('xếp', 179), ('lao_động', 178), ('hiệu_quả', 176), ('cải_cách', 172), ('cao', 169), ('kết_quả_thực_hiện', 166), ('xin', 165), ('văn_hóa', 160), ('quý', 159), ('bảo_vệ', 159), ('đẩy_mạnh', 156), ('có', 155), ('đối_ngoại', 154), ('làm', 154), ('kế_toán', 153), ('sự_nghiệp', 151), ('hồ_sơ', 151)]\n",
      "134\n",
      "2733570: [('về', 592), ('năm', 559), ('và', 508), ('ngày', 483), ('của', 466), ('các', 445), ('covid', 377), ('báo_cáo', 376), ('thực_hiện', 369), ('phòng', 346), ('dịch', 338), ('chống', 333), ('hoạt_động', 329), ('tháng', 293), ('tại', 271), ('sở', 270), ('thành_phố', 255), ('việc', 246), ('công_vụ', 241), ('công_tác', 223), ('quy_tắc', 205), ('ứng_xử', 205), ('số', 196), ('đơn', 184), ('nội_vụ', 182), ('tình_hình', 177), ('trên', 167), ('quận', 167), ('địa_bàn', 160), ('ubnd', 150), ('hành_chính', 136), ('biện_pháp', 135), ('kiểm_tra', 120), ('ủy_ban', 114), ('nhân_dân', 113), ('công_chức', 112), ('trong', 112), ('triển_khai', 112), ('thanh_tra', 108), ('chuyển', 103), ('quý', 102), ('tăng_cường', 98), ('người', 97), ('công_văn', 95), ('quản_lý', 88), ('tổ_chức', 87), ('kết_quả_thực_hiện', 84), ('viên_chức', 84), ('kết_quả', 84), ('kế_hoạch', 84), ('quyết_định', 81), ('chỉ_thị', 78)]\n",
      "52\n",
      "2733552: [('về', 4858), ('của', 3431), ('và', 2851), ('thành_phố', 2825), ('năm', 2470), ('việc', 1857), ('số', 1791), ('thực_hiện', 1345), ('các', 1339), ('ngày', 1299), ('quản_lý', 1226), ('nhân_dân', 1192), ('ủy_ban', 1130), ('báo_cáo', 1057), ('tổ_chức', 1017), ('quyết_định', 985), ('ubnd', 985), ('tháng', 966), ('ban', 948), ('hồ_chí_minh', 899), ('dự_thảo', 868), ('kế_hoạch', 859), ('công_tác', 839), ('đối_với', 830), ('sở', 817), ('tại', 787), ('quận', 778), ('góp_ý', 745), ('theo', 721), ('nhiệm_vụ', 658), ('thành_lập', 599), ('người', 580), ('xây_dựng', 542), ('giai_đoạn', 535), ('hoạt_động', 518), ('đánh_giá', 507), ('công_ty', 503), ('nghị_quyết', 498), ('triển_khai', 497), ('trên', 492), ('trong', 490), ('đơn_vị', 484), ('thành_viên', 482), ('kết_quả', 460), ('địa_bàn', 460), ('huyện', 457), ('quyền', 457), ('tổ', 451), ('qđ', 441), ('tnhh', 434), ('đề_án', 429), ('phát_triển', 429), ('kết_luận', 418), ('nhà_nước', 415), ('quỹ', 406), ('hội_đồng', 404), ('ý_kiến', 403), ('cho', 394), ('quy_định', 394), ('biên_chế', 386), ('cp', 385), ('sự_nghiệp', 377), ('thuộc', 376), ('trường', 372), ('trung_tâm', 370), ('ban_hành', 369), ('công_văn', 364), ('đầu_tư', 363), ('mtv', 363), ('thủ_đức', 361), ('chính_phủ', 356), ('lại', 355), ('công_lập', 343), ('chủ_tịch', 337), ('doanh_nghiệp', 336), ('trực_thuộc', 331), ('chức_năng', 330), ('hành_chính', 325), ('nội_vụ', 322), ('nghị_định', 322), ('lãnh_đạo', 319), ('bổ_sung', 317), ('y_tế', 316), ('quyền_hạn', 315), ('có', 312), ('nđ', 312), ('tình_hình', 308), ('cơ_cấu', 304), ('đô_thị', 300), ('dự_án', 297), ('nq', 297), ('đến', 288), ('cơ_quan', 287), ('tp', 286), ('ủy', 285), ('nội_dung', 275), ('kết_quả_thực_hiện', 275), ('lao_động', 274), ('thẩm_định', 269), ('tphcm', 268), ('đề_nghị', 267), ('quý', 264), ('nhân_sự', 264), ('cán_bộ', 259), ('chỉ_đạo', 258), ('hội', 258), ('tổng_công_ty', 257), ('giấy', 255), ('kiểm_soát', 252), ('cấp', 252), ('bổ_nhiệm', 247), ('kiện_toàn', 246), ('số_lượng', 244), ('thành_ủy', 241), ('tham_gia', 240), ('thanh_tra', 236), ('làm_việc', 235), ('khu', 235), ('kèm', 234), ('họp', 232), ('tài_chính', 232), ('phòng', 231), ('đề_xuất', 229), ('rà_soát', 229), ('quy_chế', 223), ('giao', 223), ('sài_gòn', 223), ('xếp', 218), ('sắp_xếp', 217), ('quy_hoạch', 216), ('tờ_trình', 214), ('hồ_sơ', 211), ('chương_trình', 210), ('trách_nhiệm', 202), ('phối_hợp', 200), ('tw', 200), ('lần', 199), ('ngành', 198), ('xã_hội', 198)]\n",
      "139\n",
      "2733522: [('năm', 624), ('về', 569), ('thi_đua', 480), ('thành_phố', 446), ('và', 379), ('của', 326), ('việc', 292), ('các', 279), ('khen_thưởng', 254), ('phong_trào', 236), ('thực_hiện', 198), ('tổ_chức', 194), ('ngày', 186), ('sở', 182), ('công_tác', 181), ('kế_hoạch', 162), ('đề_nghị', 141), ('đối_với', 140), ('tại', 139), ('nội_vụ', 134), ('tập_thể', 131), ('tháng', 130), ('triển_khai', 129), ('hồ_chí_minh', 128), ('trên', 122), ('tặng', 120), ('thuộc', 119), ('giai_đoạn', 116), ('dự_thảo', 116), ('địa_bàn', 112), ('nhân_dân', 112), ('số', 110), ('trong', 110), ('góp_ý', 106), ('ủy_ban', 105), ('cá_nhân', 101), ('phát_động', 100), ('sáng_tạo', 100), ('cấp', 96), ('nước', 93), ('quận', 93), ('báo_cáo', 93), ('yêu', 90), ('xuất_sắc', 90), ('có', 80), ('công_văn', 80), ('thành_tích', 76), ('nhiệm_vụ', 75), ('kỷ_niệm', 75)]\n",
      "49\n",
      "2733534: [('về', 275), ('năm', 275), ('lưu_trữ', 232), ('công_tác', 165), ('của', 158), ('thành_phố', 153), ('và', 150), ('việc', 130), ('kế_hoạch', 127), ('thực_hiện', 119), ('tài_liệu', 114), ('sở', 103), ('nội_vụ', 81), ('tại', 79), ('số', 77), ('hồ_sơ', 76), ('ngày', 76), ('văn_thư', 74), ('báo_cáo', 69), ('tháng', 69), ('triển_khai', 63), ('công_văn', 55), ('các', 54), ('trung_tâm', 51), ('dự_thảo', 50), ('nhà_nước', 48), ('lịch_sử', 48), ('chỉnh_lý_tài_liệu', 47), ('nhân_dân', 47), ('trên', 46)]\n",
      "30\n"
     ]
    }
   ],
   "execution_count": 21
  },
  {
   "metadata": {
    "ExecuteTime": {
     "end_time": "2024-07-21T15:03:57.178892Z",
     "start_time": "2024-07-21T15:03:57.173653Z"
    }
   },
   "cell_type": "code",
   "source": [
    "from collections import defaultdict\n",
    "key_count = defaultdict(int)\n",
    "for top_words in top_4_percent_words.values():\n",
    "    for key, _ in top_words:\n",
    "        key_count[key] += 1\n",
    "keys_to_remove = {key for key, count in key_count.items() if count >=6}\n",
    "print(keys_to_remove)\n",
    "print(len(keys_to_remove))"
   ],
   "id": "991541029ea262c3",
   "outputs": [
    {
     "name": "stdout",
     "output_type": "stream",
     "text": [
      "{'và', 'số', 'các', 'thực_hiện', 'ngày', 'báo_cáo', 'kế_hoạch', 'nhân_dân', 'việc', 'sở', 'triển_khai', 'của', 'công_tác', 'tháng', 'trên', 'thành_phố', 'nội_vụ', 'tại', 'về', 'năm'}\n",
      "20\n"
     ]
    }
   ],
   "execution_count": 22
  },
  {
   "metadata": {
    "ExecuteTime": {
     "end_time": "2024-07-21T15:04:21.245680Z",
     "start_time": "2024-07-21T15:04:21.236551Z"
    }
   },
   "cell_type": "code",
   "source": [
    "sorted_words_dataset = sorted(word_counts.items(), key=lambda x: x[1], reverse=True)\n",
    "num_words = max(1, len(sorted_words_dataset) // 50)\n",
    "top_words_DF = sorted_words_dataset[:num_words]\n",
    "print(top_words_DF)\n",
    "print(len(top_words_DF))"
   ],
   "id": "cbca92034952de6",
   "outputs": [
    {
     "name": "stdout",
     "output_type": "stream",
     "text": [
      "[('về', 11731), ('năm', 9023), ('và', 7128), ('của', 6897), ('thành_phố', 5661), ('việc', 4754), ('số', 3693), ('thực_hiện', 3619), ('các', 3286), ('công_tác', 3212), ('ngày', 3125), ('báo_cáo', 3071), ('công_chức', 2763), ('quản_lý', 2699), ('tháng', 2569), ('hành_chính', 2415), ('sở', 2275), ('kế_hoạch', 2220), ('tại', 2149), ('đối_với', 2144), ('nhân_dân', 2115), ('viên_chức', 2100), ('tổ_chức', 2091), ('ủy_ban', 1947), ('hồ_chí_minh', 1725), ('dự_thảo', 1723), ('trên', 1700), ('góp_ý', 1694), ('ban', 1659), ('cán_bộ', 1628), ('quận', 1606), ('triển_khai', 1600), ('ubnd', 1586), ('địa_bàn', 1583), ('bồi_dưỡng', 1578), ('quyết_định', 1539), ('cải_cách', 1526), ('theo', 1518), ('giai_đoạn', 1395), ('trong', 1388), ('lớp', 1256), ('kết_quả', 1249), ('nội_vụ', 1234), ('nhiệm_vụ', 1188), ('đăng_ký', 1178), ('đề_án', 1177), ('người', 1163), ('cấp', 1139), ('hoạt_động', 1112), ('nâng', 1089), ('cho', 1079), ('xây_dựng', 1058), ('phòng', 1022), ('lãnh_đạo', 1003), ('cp', 974), ('đánh_giá', 961), ('đơn_vị', 942), ('công_văn', 938), ('nhà_nước', 925), ('nghị_định', 906), ('tham_gia', 879), ('nđ', 879), ('nghị_quyết', 876), ('huyện', 859), ('phát_triển', 846), ('kết_luận', 840), ('thuộc', 836), ('chương_trình', 829), ('quý', 807), ('tham_dự', 767), ('đề_nghị', 767), ('thành_lập', 724), ('covid', 722), ('đi', 719), ('chống', 706), ('tình_hình', 697), ('thi_đua', 695), ('hội_đồng', 692), ('ông', 692), ('kết_quả_thực_hiện', 674), ('quy_định', 671), ('ngạch', 669), ('ban_hành', 667), ('đến', 665), ('nội_dung', 635), ('chức_danh', 635), ('biên_chế', 629), ('cơ_quan', 622), ('qđ', 621), ('ý_kiến', 618), ('bổ_sung', 618), ('chính_phủ', 614), ('có', 608), ('tổ', 608), ('nước_ngoài', 602), ('thành_viên', 598), ('chỉ_số', 597), ('thanh_tra', 594), ('lao_động', 588), ('hiệu_quả', 582), ('công_ty', 579), ('đầu_tư', 566), ('sự_nghiệp', 559), ('dịch', 540), ('rà_soát', 535), ('bổ_nhiệm', 534), ('xã_hội', 529), ('chỉ_đạo', 526), ('nq', 525)]\n",
      "109\n"
     ]
    }
   ],
   "execution_count": 23
  },
  {
   "metadata": {
    "ExecuteTime": {
     "end_time": "2024-07-21T15:04:31.860837Z",
     "start_time": "2024-07-21T15:04:31.855910Z"
    }
   },
   "cell_type": "code",
   "source": [
    "top_words_DF_set = {word for word, _ in top_words_DF}\n",
    "print(top_words_DF_set)\n",
    "print(len(top_words_DF_set))"
   ],
   "id": "c3a380436432c280",
   "outputs": [
    {
     "name": "stdout",
     "output_type": "stream",
     "text": [
      "{'sự_nghiệp', 'ngạch', 'trong', 'phát_triển', 'theo', 'ủy_ban', 'đề_nghị', 'nq', 'hành_chính', 'nghị_định', 'nđ', 'cơ_quan', 'kết_quả_thực_hiện', 'nước_ngoài', 'góp_ý', 'nhân_dân', 'việc', 'bổ_sung', 'dự_thảo', 'tại', 'năm', 'ông', 'thuộc', 'quyết_định', 'ubnd', 'công_chức', 'đơn_vị', 'ban', 'dịch', 'hoạt_động', 'nâng', 'thành_lập', 'báo_cáo', 'bồi_dưỡng', 'kế_hoạch', 'đến', 'tình_hình', 'triển_khai', 'đề_án', 'công_tác', 'đầu_tư', 'chương_trình', 'chính_phủ', 'công_văn', 'cp', 'thanh_tra', 'thành_phố', 'ban_hành', 'chống', 'tổ_chức', 'lớp', 'phòng', 'đăng_ký', 'chỉ_số', 'xây_dựng', 'quận', 'qđ', 'địa_bàn', 'và', 'đi', 'hồ_chí_minh', 'hội_đồng', 'xã_hội', 'lãnh_đạo', 'thực_hiện', 'ngày', 'kết_luận', 'tổ', 'nhà_nước', 'bổ_nhiệm', 'tham_gia', 'rà_soát', 'quy_định', 'covid', 'nghị_quyết', 'lao_động', 'tháng', 'huyện', 'quản_lý', 'viên_chức', 'giai_đoạn', 'hiệu_quả', 'nội_dung', 'ý_kiến', 'thi_đua', 'cán_bộ', 'cho', 'chỉ_đạo', 'số', 'biên_chế', 'các', 'nhiệm_vụ', 'công_ty', 'cải_cách', 'kết_quả', 'có', 'thành_viên', 'đối_với', 'sở', 'của', 'trên', 'cấp', 'quý', 'đánh_giá', 'nội_vụ', 'tham_dự', 'về', 'chức_danh', 'người'}\n",
      "109\n"
     ]
    }
   ],
   "execution_count": 24
  },
  {
   "metadata": {
    "ExecuteTime": {
     "end_time": "2024-07-21T15:04:40.541879Z",
     "start_time": "2024-07-21T15:04:40.536581Z"
    }
   },
   "cell_type": "code",
   "source": [
    "get_more_stopwords = top_words_DF_set & keys_to_remove\n",
    "print(get_more_stopwords)\n",
    "print(len(get_more_stopwords))"
   ],
   "id": "6e7d36a602e960d9",
   "outputs": [
    {
     "name": "stdout",
     "output_type": "stream",
     "text": [
      "{'và', 'số', 'các', 'thực_hiện', 'ngày', 'báo_cáo', 'kế_hoạch', 'nhân_dân', 'việc', 'sở', 'triển_khai', 'của', 'công_tác', 'tháng', 'trên', 'thành_phố', 'nội_vụ', 'tại', 'về', 'năm'}\n",
      "20\n"
     ]
    }
   ],
   "execution_count": 25
  },
  {
   "metadata": {
    "ExecuteTime": {
     "end_time": "2024-07-21T16:16:50.538692Z",
     "start_time": "2024-07-21T16:16:50.533036Z"
    }
   },
   "cell_type": "code",
   "source": [
    "for word in get_more_stopwords:\n",
    "    stopwords_project.add(word)\n",
    "print(len(stopwords_project))"
   ],
   "id": "e638a2ca0ec62ec6",
   "outputs": [
    {
     "name": "stdout",
     "output_type": "stream",
     "text": [
      "20\n"
     ]
    }
   ],
   "execution_count": 32
  },
  {
   "metadata": {
    "ExecuteTime": {
     "end_time": "2024-07-21T16:16:55.360401Z",
     "start_time": "2024-07-21T16:16:55.355606Z"
    }
   },
   "cell_type": "code",
   "source": "write_stopwords_to_file(stopwords_project, filename='../Dataset/Stopwords/stopwords_project.txt')",
   "id": "2664b14775a87ca7",
   "outputs": [],
   "execution_count": 33
  },
  {
   "metadata": {
    "ExecuteTime": {
     "end_time": "2024-07-21T17:00:15.609894Z",
     "start_time": "2024-07-21T17:00:15.603546Z"
    }
   },
   "cell_type": "code",
   "source": [
    "filtered_word_counts = {word: count for word, count in word_counts.items() if count >= 5}\n",
    "print(len(filtered_word_counts))"
   ],
   "id": "6eced28d43437967",
   "outputs": [
    {
     "name": "stdout",
     "output_type": "stream",
     "text": [
      "1869\n"
     ]
    }
   ],
   "execution_count": 34
  },
  {
   "metadata": {
    "ExecuteTime": {
     "end_time": "2024-07-21T17:02:17.826265Z",
     "start_time": "2024-07-21T17:02:17.724028Z"
    }
   },
   "cell_type": "code",
   "source": [
    "df = pd.read_csv('../Dataset/Root/data_preprocessing_stopwords_project.csv')\n",
    "df.info()"
   ],
   "id": "a831cd3504e98e78",
   "outputs": [
    {
     "name": "stdout",
     "output_type": "stream",
     "text": [
      "<class 'pandas.core.frame.DataFrame'>\n",
      "RangeIndex: 19691 entries, 0 to 19690\n",
      "Data columns (total 2 columns):\n",
      " #   Column  Non-Null Count  Dtype \n",
      "---  ------  --------------  ----- \n",
      " 0   input   19678 non-null  object\n",
      " 1   label   19691 non-null  int64 \n",
      "dtypes: int64(1), object(1)\n",
      "memory usage: 307.8+ KB\n"
     ]
    }
   ],
   "execution_count": 35
  },
  {
   "metadata": {
    "ExecuteTime": {
     "end_time": "2024-07-21T17:03:38.494888Z",
     "start_time": "2024-07-21T17:03:38.472252Z"
    }
   },
   "cell_type": "code",
   "source": [
    "df['input'].fillna('', inplace = True)\n",
    "df.info()"
   ],
   "id": "33298cf5f61c2de3",
   "outputs": [
    {
     "name": "stdout",
     "output_type": "stream",
     "text": [
      "<class 'pandas.core.frame.DataFrame'>\n",
      "RangeIndex: 19691 entries, 0 to 19690\n",
      "Data columns (total 2 columns):\n",
      " #   Column  Non-Null Count  Dtype \n",
      "---  ------  --------------  ----- \n",
      " 0   input   19691 non-null  object\n",
      " 1   label   19691 non-null  int64 \n",
      "dtypes: int64(1), object(1)\n",
      "memory usage: 307.8+ KB\n"
     ]
    }
   ],
   "execution_count": 37
  },
  {
   "metadata": {
    "ExecuteTime": {
     "end_time": "2024-07-21T17:03:52.677652Z",
     "start_time": "2024-07-21T17:03:50.660883Z"
    }
   },
   "cell_type": "code",
   "source": [
    "word_counts = {}\n",
    "for index, row in df.iterrows():\n",
    "    words = str(row['input']).split()\n",
    "    for word in words:\n",
    "        if word in word_counts:\n",
    "            word_counts[word] += 1\n",
    "        else:\n",
    "            word_counts[word] = 1\n",
    "\n",
    "len(word_counts)"
   ],
   "id": "e3733d518ffa19f5",
   "outputs": [
    {
     "data": {
      "text/plain": [
       "3678"
      ]
     },
     "execution_count": 38,
     "metadata": {},
     "output_type": "execute_result"
    }
   ],
   "execution_count": 38
  },
  {
   "metadata": {
    "ExecuteTime": {
     "end_time": "2024-07-21T17:04:12.564383Z",
     "start_time": "2024-07-21T17:04:12.558733Z"
    }
   },
   "cell_type": "code",
   "source": [
    "filtered_word_counts = {word: count for word, count in word_counts.items() if count >= 6}\n",
    "print(len(filtered_word_counts))"
   ],
   "id": "b9f94bce30abe6a",
   "outputs": [
    {
     "name": "stdout",
     "output_type": "stream",
     "text": [
      "1524\n"
     ]
    }
   ],
   "execution_count": 40
  }
 ],
 "metadata": {
  "kernelspec": {
   "display_name": "Python 3",
   "language": "python",
   "name": "python3"
  },
  "language_info": {
   "codemirror_mode": {
    "name": "ipython",
    "version": 2
   },
   "file_extension": ".py",
   "mimetype": "text/x-python",
   "name": "python",
   "nbconvert_exporter": "python",
   "pygments_lexer": "ipython2",
   "version": "2.7.6"
  }
 },
 "nbformat": 4,
 "nbformat_minor": 5
}
