{
 "cells": [
  {
   "cell_type": "code",
   "id": "initial_id",
   "metadata": {
    "collapsed": true,
    "ExecuteTime": {
     "end_time": "2024-07-25T15:03:49.828713Z",
     "start_time": "2024-07-25T15:03:49.804211Z"
    }
   },
   "source": [
    "import re\n",
    "\n",
    "def loaddictchar():\n",
    "    dic = {}\n",
    "    char1252 = 'à|á|ả|ã|ạ|ầ|ấ|ẩ|ẫ|ậ|ằ|ắ|ẳ|ẵ|ặ|è|é|ẻ|ẽ|ẹ|ề|ế|ể|ễ|ệ|ì|í|ỉ|ĩ|ị|ò|ó|ỏ|õ|ọ|ồ|ố|ổ|ỗ|ộ|ờ|ớ|ở|ỡ|ợ|ù|ú|ủ|ũ|ụ|ừ|ứ|ử|ữ|ự|ỳ|ý|ỷ|ỹ|ỵ|À|Á|Ả|Ã|Ạ|Ầ|Ấ|Ẩ|Ẫ|Ậ|Ằ|Ắ|Ẳ|Ẵ|Ặ|È|É|Ẻ|Ẽ|Ẹ|Ề|Ế|Ể|Ễ|Ệ|Ì|Í|Ỉ|Ĩ|Ị|Ò|Ó|Ỏ|Õ|Ọ|Ồ|Ố|Ổ|Ỗ|Ộ|Ờ|Ớ|Ở|Ỡ|Ợ|Ù|Ú|Ủ|Ũ|Ụ|Ừ|Ứ|Ử|Ữ|Ự|Ỳ|Ý|Ỷ|Ỹ|Ỵ'.split('|')\n",
    "    charutf8 = \"à|á|ả|ã|ạ|ầ|ấ|ẩ|ẫ|ậ|ằ|ắ|ẳ|ẵ|ặ|è|é|ẻ|ẽ|ẹ|ề|ế|ể|ễ|ệ|ì|í|ỉ|ĩ|ị|ò|ó|ỏ|õ|ọ|ồ|ố|ổ|ỗ|ộ|ờ|ớ|ở|ỡ|ợ|ù|ú|ủ|ũ|ụ|ừ|ứ|ử|ữ|ự|ỳ|ý|ỷ|ỹ|ỵ|À|Á|Ả|Ã|Ạ|Ầ|Ấ|Ẩ|Ẫ|Ậ|Ằ|Ắ|Ẳ|Ẵ|Ặ|È|É|Ẻ|Ẽ|Ẹ|Ề|Ế|Ể|Ễ|Ệ|Ì|Í|Ỉ|Ĩ|Ị|Ò|Ó|Ỏ|Õ|Ọ|Ồ|Ố|Ổ|Ỗ|Ộ|Ờ|Ớ|Ở|Ỡ|Ợ|Ù|Ú|Ủ|Ũ|Ụ|Ừ|Ứ|Ử|Ữ|Ự|Ỳ|Ý|Ỷ|Ỹ|Ỵ\".split('|')\n",
    "    for i in range(len(char1252)):\n",
    "        dic[char1252[i]] = charutf8[i]\n",
    "    return dic\n",
    "\n",
    "dicchar = loaddictchar()\n",
    "\n",
    "#Đưa văn bản về bộ mã tiếng Việt utf-8\n",
    "def convertwindown1525toutf8(txt):\n",
    "    return re.sub(r'à|á|ả|ã|ạ|ầ|ấ|ẩ|ẫ|ậ|ằ|ắ|ẳ|ẵ|ặ|è|é|ẻ|ẽ|ẹ|ề|ế|ể|ễ|ệ|ì|í|ỉ|ĩ|ị|ò|ó|ỏ|õ|ọ|ồ|ố|ổ|ỗ|ộ|ờ|ớ|ở|ỡ|ợ|ù|ú|ủ|ũ|ụ|ừ|ứ|ử|ữ|ự|ỳ|ý|ỷ|ỹ|ỵ|À|Á|Ả|Ã|Ạ|Ầ|Ấ|Ẩ|Ẫ|Ậ|Ằ|Ắ|Ẳ|Ẵ|Ặ|È|É|Ẻ|Ẽ|Ẹ|Ề|Ế|Ể|Ễ|Ệ|Ì|Í|Ỉ|Ĩ|Ị|Ò|Ó|Ỏ|Õ|Ọ|Ồ|Ố|Ổ|Ỗ|Ộ|Ờ|Ớ|Ở|Ỡ|Ợ|Ù|Ú|Ủ|Ũ|Ụ|Ừ|Ứ|Ử|Ữ|Ự|Ỳ|Ý|Ỷ|Ỹ|Ỵ',\n",
    "                  lambda x: dicchar[x.group()], txt)\n",
    "\n",
    "bang_nguyen_am = [['a', 'à', 'á', 'ả', 'ã', 'ạ'],\n",
    "                  ['ă', 'ằ', 'ắ', 'ẳ', 'ẵ', 'ặ'],\n",
    "                  ['â', 'ầ', 'ấ', 'ẩ', 'ẫ', 'ậ'],\n",
    "                  ['e', 'è', 'é', 'ẻ', 'ẽ', 'ẹ'],\n",
    "                  ['ê', 'ề', 'ế', 'ể', 'ễ', 'ệ'],\n",
    "                  ['i', 'ì', 'í', 'ỉ', 'ĩ', 'ị'],\n",
    "                  ['o', 'ò', 'ó', 'ỏ', 'õ', 'ọ'],\n",
    "                  ['ô', 'ồ', 'ố', 'ổ', 'ỗ', 'ộ'],\n",
    "                  ['ơ', 'ờ', 'ớ', 'ở', 'ỡ', 'ợ'],\n",
    "                  ['u', 'ù', 'ú', 'ủ', 'ũ', 'ụ'],\n",
    "                  ['ư', 'ừ', 'ứ', 'ử', 'ữ', 'ự'],\n",
    "                  ['y', 'ỳ', 'ý', 'ỷ', 'ỹ', 'ỵ']]\n",
    "\n",
    "nguyen_am_to_ids = {}\n",
    "\n",
    "for i in range(len(bang_nguyen_am)):\n",
    "    for j in range(len(bang_nguyen_am[i])):\n",
    "        nguyen_am_to_ids[bang_nguyen_am[i][j]] = (i, j)\n",
    "\n",
    "def is_valid_vietnam_word(word):\n",
    "    chars = list(word)\n",
    "    nguyen_am_index = -1\n",
    "    for index, char in enumerate(chars):\n",
    "        x, y = nguyen_am_to_ids.get(char, (-1, -1))\n",
    "        if x != -1:\n",
    "            if nguyen_am_index == -1:\n",
    "                nguyen_am_index = index\n",
    "            else:\n",
    "                if index - nguyen_am_index != 1:\n",
    "                    return False\n",
    "                nguyen_am_index = index\n",
    "    return True\n",
    "\n",
    "#Sửa lỗi sử dụng các dấu thanh kiểu cũ (òa, úy thay vì oà, uý)\n",
    "def chuan_hoa_dau_tu_tieng_viet(word):\n",
    "    if not is_valid_vietnam_word(word):\n",
    "        return word\n",
    "\n",
    "    chars = list(word)\n",
    "    dau_cau = 0\n",
    "    nguyen_am_index = []\n",
    "    qu_or_gi = False\n",
    "    for index, char in enumerate(chars):\n",
    "        x, y = nguyen_am_to_ids.get(char, (-1, -1))\n",
    "        if x == -1:\n",
    "            continue\n",
    "        elif x == 9:  # check qu\n",
    "            if index != 0 and chars[index - 1] == 'q':\n",
    "                chars[index] = 'u'\n",
    "                qu_or_gi = True\n",
    "        elif x == 5:  # check gi\n",
    "            if index != 0 and chars[index - 1] == 'g':\n",
    "                chars[index] = 'i'\n",
    "                qu_or_gi = True\n",
    "        if y != 0:\n",
    "            dau_cau = y\n",
    "            chars[index] = bang_nguyen_am[x][0]\n",
    "        if not qu_or_gi or index != 1:\n",
    "            nguyen_am_index.append(index)\n",
    "    if len(nguyen_am_index) < 2:\n",
    "        if qu_or_gi:\n",
    "            if len(chars) == 2:\n",
    "                x, y = nguyen_am_to_ids.get(chars[1])\n",
    "                chars[1] = bang_nguyen_am[x][dau_cau]\n",
    "            else:\n",
    "                x, y = nguyen_am_to_ids.get(chars[2], (-1, -1))\n",
    "                if x != -1:\n",
    "                    chars[2] = bang_nguyen_am[x][dau_cau]\n",
    "                else:\n",
    "                    chars[1] = bang_nguyen_am[5][dau_cau] if chars[1] == 'i' else bang_nguyen_am[9][dau_cau]\n",
    "            return ''.join(chars)\n",
    "        return word\n",
    "\n",
    "    for index in nguyen_am_index:\n",
    "        x, y = nguyen_am_to_ids[chars[index]]\n",
    "        if x == 4 or x == 8:  # ê, ơ\n",
    "            chars[index] = bang_nguyen_am[x][dau_cau]\n",
    "            return ''.join(chars)\n",
    "\n",
    "    if len(nguyen_am_index) == 2:\n",
    "        if nguyen_am_index[-1] == len(chars) - 1:\n",
    "            x, y = nguyen_am_to_ids[chars[nguyen_am_index[0]]]\n",
    "            chars[nguyen_am_index[0]] = bang_nguyen_am[x][dau_cau]\n",
    "        else:\n",
    "            x, y = nguyen_am_to_ids[chars[nguyen_am_index[1]]]\n",
    "            chars[nguyen_am_index[1]] = bang_nguyen_am[x][dau_cau]\n",
    "    else:\n",
    "        x, y = nguyen_am_to_ids[chars[nguyen_am_index[1]]]\n",
    "        chars[nguyen_am_index[1]] = bang_nguyen_am[x][dau_cau]\n",
    "    return ''.join(chars)\n",
    "\n",
    "\n",
    "def chuan_hoa_dau_cau_tieng_viet(sentence):\n",
    "    sentence = convertwindown1525toutf8(sentence)\n",
    "\n",
    "    ##Do nếu không tách các ký tự đặc biệt ra từng từ, thì def chuan_hoa_dau_tu_tieng_viet sẽ sửa dấu sai\n",
    "    # Sử dụng regex để tách các từ và ký tự đặc biệt\n",
    "    words_with_indices = [(match.group(), match.start()) for match in re.finditer(r'\\w+|[^\\w\\s]', sentence)]\n",
    "\n",
    "    # Chuẩn hóa từng từ tiếng Việt\n",
    "    for index, (word, pos) in enumerate(words_with_indices):\n",
    "        if word.isalnum():  # Chỉ chuẩn hóa nếu từ là chữ cái hoặc số\n",
    "            words_with_indices[index] = (chuan_hoa_dau_tu_tieng_viet(word.lower()), pos)\n",
    "\n",
    "    # Khôi phục lại câu với các ký tự đặc biệt đúng vị trí và giữ nguyên viết hoa viết thường\n",
    "    result = list(sentence)\n",
    "    for word, pos in words_with_indices:\n",
    "        for i, char in enumerate(word):\n",
    "            if sentence[pos + i].isupper():\n",
    "                result[pos + i] = char.upper()\n",
    "            else:\n",
    "                result[pos + i] = char\n",
    "\n",
    "    return ''.join(result)"
   ],
   "outputs": [],
   "execution_count": 1
  },
  {
   "metadata": {
    "ExecuteTime": {
     "end_time": "2024-07-25T15:03:53.687252Z",
     "start_time": "2024-07-25T15:03:53.680255Z"
    }
   },
   "cell_type": "code",
   "source": [
    "# Np - Proper noun\n",
    "# M - Numeral\n",
    "# F - Filtered out (punctuation)\n",
    "def filter_and_join_words(tagged_sentence, is_remove_np):\n",
    "    exclude_pos_tags = ['M', 'F']\n",
    "    if is_remove_np:\n",
    "        exclude_pos_tags.append('Np')\n",
    "\n",
    "    \"\"\"\n",
    "    Remove words that have postags in the exclude_pos_tags list from the tagged_sentence and join the remaining words with spaces.\n",
    "\n",
    "    Parameters:\n",
    "    tagged_sentence (tuple of list of str): The tuple containing two lists: words and postags.\n",
    "    exclude_pos_tags (list of str): The list of postags to exclude.\n",
    "\n",
    "    Returns:\n",
    "    str: The filtered words joined by spaces.\n",
    "    \"\"\"\n",
    "    words, postags = tagged_sentence\n",
    "    filtered_words = []\n",
    "\n",
    "    for word, postag in zip(words, postags):\n",
    "        if postag not in exclude_pos_tags:\n",
    "            filtered_words.append(word)\n",
    "\n",
    "    return ' '.join(filtered_words)"
   ],
   "id": "b47600bc325e5816",
   "outputs": [],
   "execution_count": 2
  },
  {
   "metadata": {
    "ExecuteTime": {
     "end_time": "2024-07-25T15:03:56.514637Z",
     "start_time": "2024-07-25T15:03:56.510063Z"
    }
   },
   "cell_type": "code",
   "source": [
    "stopwords = set()\n",
    "stopwords_project = set()"
   ],
   "id": "971ade3473c0c434",
   "outputs": [],
   "execution_count": 3
  },
  {
   "metadata": {
    "ExecuteTime": {
     "end_time": "2024-07-25T15:04:00.057969Z",
     "start_time": "2024-07-25T15:03:58.794171Z"
    }
   },
   "cell_type": "code",
   "source": [
    "from pyvi import ViTokenizer, ViPosTagger\n",
    "def text_preprocess(text, is_remove_np):\n",
    "    text = chuan_hoa_dau_cau_tieng_viet(text) #Chuẩn hóa dấu câu tiếng việt và chuyển đổi Windown1525 thành UTF8\n",
    "    text = text.replace('_x000D_', '') # _x000D_ là mã Unicode biểu diễn ký tự xuống dòng (CR-Carriage Return) (Cái này khi up file excel, mở bằng GG Sheets sẽ bị ở những chổ xuống dòng dữ liệu '\\n')\n",
    "\n",
    "    # Kiểm tra tỷ lệ ký tự viết hoa trong văn bản\n",
    "    upper_case_chars = sum(1 for char in text if char.isupper())\n",
    "    total_chars = len(text)\n",
    "    if upper_case_chars / total_chars >= 0.9:\n",
    "        text = text.lower() #Nếu tỷ lệ ký tự viết hoa cao hơn 90%, chuyển đổi văn bản thành viết thường\n",
    "    \"\"\"\n",
    "    Ví dụ:   V/V CỬ NHÂN SỰ THAM GIA TỔ CÔNG TÁC VÀ TỔ GIÚP VIỆC XÂY DỰNG ĐỀ ÁN PHÂN CẤP, ỦY QUYỀN\n",
    "             BÁO CÁO VỀ TỔ CHỨC HOẠT ĐỘNG VẬN TẢI PHÒNG, CHỐNG DỊCH COVID-19 TRONG TÌNH HÌNH MỚI ĐỐI VỚI LĨNH VỰC GIAO THÔNG VẬN TẢI (Ngày 23 tháng 11 năm 2021)\n",
    "        -Những từ này nếu không đưa về lower thì khi tách từ đa phần sẽ nhận định là danh từ, danh từ riêng,... ra kết quả không chính xác với nội dung của text\n",
    "    \"\"\"\n",
    "\n",
    "    postagging_text = ViPosTagger.postagging(ViTokenizer.tokenize(text)) #Dùng Vi để tách từ và gán postagger\n",
    "    text = filter_and_join_words(postagging_text, is_remove_np) #Loại bỏ các từ có postagger không cần thiết\n",
    "    text = re.sub(r'[^\\w\\s]', '', text) #Loại bỏ các ký tự đặc biệt thêm 1 lần nữa nếu sau khi tách từ vấn còn\n",
    "    word_tokens = text.split()\n",
    "    filtered_text = []\n",
    "    for word in word_tokens:\n",
    "        if word.lower() in stopwords:\n",
    "            stopwords_project.add(word.lower()) #Neu tu do thuoc stopwords thi them vao stopwords_project\n",
    "        else:\n",
    "            filtered_text.append(word)\n",
    "    filtered_text = [word for word in filtered_text if len(word) > 1] #Loại bỏ các từ đơn\n",
    "    filtered_text = ' '.join(filtered_text)\n",
    "    return filtered_text.lower() #Trả về text lower"
   ],
   "id": "ab00d97c2f0970ef",
   "outputs": [],
   "execution_count": 4
  },
  {
   "metadata": {
    "ExecuteTime": {
     "end_time": "2024-07-25T15:04:07.282070Z",
     "start_time": "2024-07-25T15:04:06.708144Z"
    }
   },
   "cell_type": "code",
   "source": "import pandas as pd",
   "id": "7fb795414de025a8",
   "outputs": [],
   "execution_count": 5
  },
  {
   "metadata": {
    "ExecuteTime": {
     "end_time": "2024-07-25T15:04:12.712841Z",
     "start_time": "2024-07-25T15:04:12.708172Z"
    }
   },
   "cell_type": "code",
   "source": "path_input = '../Dataset/Root/data.csv'",
   "id": "d6c05e3eaa5b3d78",
   "outputs": [],
   "execution_count": 6
  },
  {
   "metadata": {
    "ExecuteTime": {
     "end_time": "2024-07-25T15:04:14.870086Z",
     "start_time": "2024-07-25T15:04:14.746151Z"
    }
   },
   "cell_type": "code",
   "source": [
    "df = pd.read_csv(path_input)\n",
    "df.info()"
   ],
   "id": "d8061606d6556076",
   "outputs": [
    {
     "name": "stdout",
     "output_type": "stream",
     "text": [
      "<class 'pandas.core.frame.DataFrame'>\n",
      "RangeIndex: 19691 entries, 0 to 19690\n",
      "Data columns (total 2 columns):\n",
      " #   Column          Non-Null Count  Dtype \n",
      "---  ------          --------------  ----- \n",
      " 0   Trích yếu       19691 non-null  object\n",
      " 1   ID phòng xử lý  19691 non-null  int64 \n",
      "dtypes: int64(1), object(1)\n",
      "memory usage: 307.8+ KB\n"
     ]
    }
   ],
   "execution_count": 7
  },
  {
   "metadata": {
    "ExecuteTime": {
     "end_time": "2024-07-25T15:04:38.829157Z",
     "start_time": "2024-07-25T15:04:38.821952Z"
    }
   },
   "cell_type": "code",
   "source": [
    "def get_data_duplicated(df):\n",
    "  # Lấy các hàng trùng lặp dựa trên cột \"Trích yếu\"\n",
    "  duplicated_data = df[df.duplicated(subset='Trích yếu', keep=False)]\n",
    "\n",
    "  grouped = duplicated_data.groupby('Trích yếu')\n",
    "  filtered_data = []\n",
    "  for name, group in grouped:\n",
    "    counts = group['ID phòng xử lý'].value_counts()\n",
    "    if len(counts) == 1:\n",
    "      filtered_data.append(group)\n",
    "    else:\n",
    "      # Lấy số lượng count của counts top 2\n",
    "      top_counts = counts.nlargest(2)\n",
    "      first_top_count = top_counts.iloc[0]\n",
    "      second_top_count = top_counts.iloc[1]\n",
    "      count_data = first_top_count - second_top_count\n",
    "      top_id = counts.idxmax()\n",
    "      top_group = group[group['ID phòng xử lý'] == top_id]\n",
    "      get_data_top = top_group.head(count_data)\n",
    "      filtered_data.append(get_data_top)\n",
    "  filtered_data = pd.concat(filtered_data) #Dữ liệu đã loại bỏ các trích yếu nhiều nhãn\n",
    "\n",
    "  return duplicated_data.drop(filtered_data.index) #Dữ liệu mà trích yếu có nhiều nhãn"
   ],
   "id": "128c3d19579b0f89",
   "outputs": [],
   "execution_count": 9
  },
  {
   "metadata": {
    "ExecuteTime": {
     "end_time": "2024-07-25T15:05:25.147414Z",
     "start_time": "2024-07-25T15:04:59.386007Z"
    }
   },
   "cell_type": "code",
   "source": [
    "keep_data_multi_label = False\n",
    "if not keep_data_multi_label:\n",
    "  df_duplicated = get_data_duplicated(df)\n",
    "  df_duplicated.info()\n",
    "  df = df.drop(df_duplicated.index)\n",
    "df['input'] = df['Trích yếu'].apply(lambda x: text_preprocess(x, False))"
   ],
   "id": "31d4075dd634bddf",
   "outputs": [
    {
     "name": "stdout",
     "output_type": "stream",
     "text": [
      "<class 'pandas.core.frame.DataFrame'>\n",
      "Index: 2962 entries, 16729 to 19690\n",
      "Data columns (total 2 columns):\n",
      " #   Column          Non-Null Count  Dtype \n",
      "---  ------          --------------  ----- \n",
      " 0   Trích yếu       2962 non-null   object\n",
      " 1   ID phòng xử lý  2962 non-null   int64 \n",
      "dtypes: int64(1), object(1)\n",
      "memory usage: 69.4+ KB\n"
     ]
    }
   ],
   "execution_count": 10
  },
  {
   "metadata": {
    "ExecuteTime": {
     "end_time": "2024-07-25T15:05:33.002905Z",
     "start_time": "2024-07-25T15:05:32.991940Z"
    }
   },
   "cell_type": "code",
   "source": "df['ID phòng xử lý'].value_counts()",
   "id": "9e224243b99b0c02",
   "outputs": [
    {
     "data": {
      "text/plain": [
       "ID phòng xử lý\n",
       "2733546    6656\n",
       "2733552    6438\n",
       "2733540    1668\n",
       "2733570     861\n",
       "2733522     796\n",
       "2733534     310\n",
       "Name: count, dtype: int64"
      ]
     },
     "execution_count": 11,
     "metadata": {},
     "output_type": "execute_result"
    }
   ],
   "execution_count": 11
  },
  {
   "metadata": {
    "ExecuteTime": {
     "end_time": "2024-07-25T15:05:38.266741Z",
     "start_time": "2024-07-25T15:05:36.384585Z"
    }
   },
   "cell_type": "code",
   "source": [
    "word_counts = {}\n",
    "for index, row in df.iterrows():\n",
    "    words = str(row['input']).split()\n",
    "    for word in words:\n",
    "        if word in word_counts:\n",
    "            word_counts[word] += 1\n",
    "        else:\n",
    "            word_counts[word] = 1\n",
    "\n",
    "len(word_counts)"
   ],
   "id": "98d1926057d95dee",
   "outputs": [
    {
     "data": {
      "text/plain": [
       "5378"
      ]
     },
     "execution_count": 12,
     "metadata": {},
     "output_type": "execute_result"
    }
   ],
   "execution_count": 12
  },
  {
   "metadata": {
    "ExecuteTime": {
     "end_time": "2024-07-25T15:06:09.491694Z",
     "start_time": "2024-07-25T15:06:09.486021Z"
    }
   },
   "cell_type": "code",
   "source": [
    "def write_stopwords_to_file(stopwords_project, filename='stopwords_project.txt'):\n",
    "    with open(filename, 'w', encoding='utf-8') as file:\n",
    "        for stopword in stopwords_project:\n",
    "            file.write(f\"{stopword}\\n\")"
   ],
   "id": "5d31e19720fc4e6f",
   "outputs": [],
   "execution_count": 13
  },
  {
   "metadata": {
    "ExecuteTime": {
     "end_time": "2024-07-25T15:06:14.927174Z",
     "start_time": "2024-07-25T15:06:13.123943Z"
    }
   },
   "cell_type": "code",
   "source": [
    "map_word_counts = {}\n",
    "for label in df['ID phòng xử lý'].unique():\n",
    "    get_df = df[df['ID phòng xử lý'] == label]\n",
    "    word_counts_index = {}\n",
    "    \n",
    "    for index, row in get_df.iterrows():\n",
    "        words = str(row['input']).split()\n",
    "        for word in words:\n",
    "            if word in word_counts_index:\n",
    "                word_counts_index[word] += 1\n",
    "            else:\n",
    "                word_counts_index[word] = 1\n",
    "    map_word_counts[f'{label}'] = word_counts_index"
   ],
   "id": "1dc2e59fc6587694",
   "outputs": [],
   "execution_count": 14
  },
  {
   "metadata": {
    "ExecuteTime": {
     "end_time": "2024-07-25T15:06:17.992965Z",
     "start_time": "2024-07-25T15:06:17.988057Z"
    }
   },
   "cell_type": "code",
   "source": [
    "for label in map_word_counts:\n",
    "    print(f'{label}: {len(map_word_counts[label])}')"
   ],
   "id": "2920e0a6ac89ee17",
   "outputs": [
    {
     "name": "stdout",
     "output_type": "stream",
     "text": [
      "2733540: 918\n",
      "2733546: 3046\n",
      "2733570: 907\n",
      "2733552: 3249\n",
      "2733522: 1004\n",
      "2733534: 472\n"
     ]
    }
   ],
   "execution_count": 15
  },
  {
   "metadata": {
    "ExecuteTime": {
     "end_time": "2024-07-25T15:06:21.394446Z",
     "start_time": "2024-07-25T15:06:21.384868Z"
    }
   },
   "cell_type": "code",
   "source": [
    "top_4_percent_words = {}\n",
    "for key, word_dict in map_word_counts.items():\n",
    "    sorted_words = sorted(word_dict.items(), key=lambda x: x[1], reverse=True)\n",
    "    num_words = max(1, len(sorted_words) // 25)\n",
    "    top_words = sorted_words[:num_words]\n",
    "    top_4_percent_words[key] = top_words"
   ],
   "id": "e5856dd4b1fb9065",
   "outputs": [],
   "execution_count": 16
  },
  {
   "metadata": {
    "ExecuteTime": {
     "end_time": "2024-07-25T15:06:23.919912Z",
     "start_time": "2024-07-25T15:06:23.914138Z"
    }
   },
   "cell_type": "code",
   "source": [
    "for key, value in top_4_percent_words.items():\n",
    "    print(f'{key}: {value}')\n",
    "    print(len(value))"
   ],
   "id": "540440ce505f8796",
   "outputs": [
    {
     "name": "stdout",
     "output_type": "stream",
     "text": [
      "2733540: [('hành_chính', 1462), ('năm', 1157), ('cải_cách', 1136), ('công_tác', 724), ('và', 710), ('về', 679), ('của', 634), ('thành_phố', 627), ('thực_hiện', 480), ('chỉ_số', 445), ('trên', 442), ('kế_hoạch', 433), ('địa_bàn', 414), ('các', 296), ('góp_ý', 276), ('việc', 251), ('tháng', 243), ('báo_cáo', 231), ('quận', 228), ('triển_khai', 227), ('sở', 217), ('ngày', 216), ('quý', 208), ('trong', 206), ('giai_đoạn', 203), ('ban', 199), ('hiệu_quả', 193), ('thủ_tục', 189), ('dự_thảo', 188), ('cấp', 186), ('tổ_chức', 183), ('nâng', 182), ('cao', 179), ('giải_pháp', 178), ('hồ_chí_minh', 168), ('ủy_ban', 167)]\n",
      "36\n",
      "2733546: [('về', 4003), ('năm', 3208), ('công_chức', 2226), ('và', 2026), ('viên_chức', 1723), ('việc', 1630), ('bồi_dưỡng', 1482), ('của', 1277), ('lớp', 1212), ('cán_bộ', 1122), ('số', 1117), ('quản_lý', 1105), ('báo_cáo', 1097), ('thành_phố', 939), ('đăng_ký', 935), ('đối_với', 878), ('công_tác', 794), ('thực_hiện', 784), ('nâng', 739), ('tham_dự', 711), ('đi', 671), ('ngạch', 644), ('các', 633), ('ngày', 574), ('theo', 573), ('cho', 557), ('tháng', 554), ('cấp', 538), ('lãnh_đạo', 525), ('cp', 515), ('nghị_định', 503), ('đề_án', 503), ('nđ', 502), ('nước_ngoài', 498), ('tại', 469), ('tham_gia', 468), ('tổ_chức', 451), ('góp_ý', 451), ('ông', 447), ('chức_danh', 443), ('kiến_thức', 422), ('kết_quả', 422), ('cử', 421), ('giai_đoạn', 410), ('chuyên_viên', 408), ('chương_trình', 400), ('dự_thảo', 388), ('lương', 366), ('đào_tạo', 364), ('kế_hoạch', 361), ('triển_khai', 346), ('trong', 341), ('người', 339), ('trên', 334), ('nghề_nghiệp', 330), ('hồ_chí_minh', 319), ('địa_bàn', 309), ('nhân_dân', 299), ('xây_dựng', 295), ('tuyển_dụng', 293), ('sở', 293), ('đơn_vị', 282), ('nghiệp_vụ', 278), ('đề_nghị', 276), ('phát_triển', 272), ('quận', 272), ('danh_sách', 270), ('thi_tuyển', 268), ('vị_trí', 261), ('bậc', 260), ('thi', 257), ('riêng', 253), ('chính', 253), ('phòng', 252), ('thăng_hạng', 251), ('viên', 251), ('nhà_nước', 248), ('ban', 238), ('bổ_nhiệm', 237), ('chuyển', 233), ('đến', 232), ('chính_trị', 230), ('hành_chính', 228), ('nhu_cầu', 218), ('phép', 216), ('đánh_giá', 216), ('bà', 213), ('biên_chế', 212), ('ủy_ban', 208), ('thanh_tra', 206), ('luật', 204), ('công_vụ', 202), ('xã_hội', 201), ('kỳ', 198), ('số_liệu', 196), ('bổ_sung', 194), ('quyết_định', 193), ('cơ_quan', 192), ('nghị_quyết', 189), ('việc_làm', 187), ('chuyển_đổi', 184), ('kết_luận', 184), ('từ', 178), ('nội_vụ', 178), ('thuộc', 177), ('ubnd', 174), ('hướng_dẫn', 174), ('khóa', 173), ('tw', 173), ('nq', 171), ('huyện', 170), ('hội_đồng', 169), ('xếp', 168), ('rà_soát', 165), ('đề_xuất', 165), ('số_lượng', 158), ('hiệu_quả', 155), ('xin', 154), ('đối_ngoại', 153), ('lao_động', 153), ('kế_toán', 149)]\n",
      "121\n",
      "2733570: [('ngày', 375), ('các', 371), ('covid', 363), ('về', 363), ('và', 354), ('báo_cáo', 338), ('dịch', 328), ('phòng', 314), ('chống', 314), ('hoạt_động', 312), ('năm', 288), ('thực_hiện', 270), ('của', 258), ('công_vụ', 231), ('quy_tắc', 201), ('ứng_xử', 201), ('đơn', 174), ('tháng', 168), ('tại', 166), ('tình_hình', 159), ('quận', 151), ('trên', 138), ('địa_bàn', 138), ('biện_pháp', 131), ('thành_phố', 128), ('việc', 125), ('ubnd', 123), ('số', 119), ('công_tác', 113), ('thanh_tra', 98), ('chuyển', 97), ('kiểm_tra', 95), ('sở', 90), ('người', 85), ('tăng_cường', 82), ('trong', 82)]\n",
      "36\n",
      "2733552: [('về', 4346), ('của', 3030), ('thành_phố', 2544), ('và', 2517), ('năm', 2042), ('việc', 1623), ('số', 1562), ('các', 1199), ('quản_lý', 1137), ('thực_hiện', 1134), ('ngày', 1110), ('nhân_dân', 1069), ('ủy_ban', 1011), ('báo_cáo', 947), ('tổ_chức', 935), ('ubnd', 911), ('quyết_định', 910), ('ban', 865), ('hồ_chí_minh', 814), ('dự_thảo', 802), ('tháng', 777), ('đối_với', 754), ('kế_hoạch', 742), ('quận', 740), ('góp_ý', 700), ('công_tác', 687), ('theo', 649), ('tại', 639), ('sở', 607), ('nhiệm_vụ', 587), ('thành_lập', 585), ('người', 524), ('giai_đoạn', 501), ('hoạt_động', 495), ('xây_dựng', 492), ('công_ty', 481), ('thành_viên', 469), ('đánh_giá', 467), ('đơn_vị', 454), ('quyền', 440), ('trên', 431), ('huyện', 423), ('tổ', 422), ('trong', 418), ('tnhh', 415), ('nghị_quyết', 414), ('qđ', 410), ('địa_bàn', 407), ('quỹ', 402), ('kết_quả', 398), ('đề_án', 392), ('phát_triển', 392), ('hội_đồng', 382), ('nhà_nước', 380), ('ý_kiến', 377), ('triển_khai', 370), ('biên_chế', 367), ('trường', 363), ('cho', 362), ('sự_nghiệp', 362), ('trung_tâm', 360), ('quy_định', 356), ('kết_luận', 351), ('đầu_tư', 345), ('cp', 345), ('mtv', 343), ('lại', 335), ('ban_hành', 335), ('thủ_đức', 334), ('công_lập', 333), ('chính_phủ', 331), ('thuộc', 327), ('trực_thuộc', 318), ('chức_năng', 317), ('chủ_tịch', 315), ('doanh_nghiệp', 315), ('y_tế', 304), ('quyền_hạn', 299), ('cơ_cấu', 292), ('có', 291), ('dự_án', 289), ('bổ_sung', 285), ('đô_thị', 284), ('nghị_định', 283), ('tình_hình', 279), ('nđ', 275), ('lãnh_đạo', 274), ('tp', 274), ('ủy', 271), ('cơ_quan', 271), ('nq', 270), ('công_văn', 266), ('đến', 265), ('tphcm', 258), ('thẩm_định', 256), ('nhân_sự', 255), ('lao_động', 251), ('hội', 248), ('tổng_công_ty', 248), ('kết_quả_thực_hiện', 246), ('giấy', 241), ('đề_nghị', 240), ('hành_chính', 236), ('kiện_toàn', 235), ('kiểm_soát', 234), ('chỉ_đạo', 231), ('quý', 230), ('cấp', 228), ('kèm', 227), ('tài_chính', 227), ('khu', 226), ('bổ_nhiệm', 220), ('số_lượng', 219), ('thanh_tra', 216), ('giao', 216), ('đề_xuất', 214), ('sài_gòn', 214), ('sắp_xếp', 213), ('quy_chế', 212), ('tham_gia', 212), ('nội_dung', 210), ('rà_soát', 210), ('thành_ủy', 207), ('xếp', 207), ('làm_việc', 205), ('cán_bộ', 201), ('tờ_trình', 201), ('quy_hoạch', 200), ('họp', 199)]\n",
      "129\n",
      "2733522: [('thi_đua', 450), ('năm', 420), ('về', 404), ('thành_phố', 340), ('và', 264), ('khen_thưởng', 243), ('các', 227), ('phong_trào', 222), ('việc', 203), ('tổ_chức', 160), ('của', 159), ('đề_nghị', 136), ('đối_với', 132), ('tập_thể', 128), ('thực_hiện', 120), ('tặng', 114), ('công_tác', 111), ('kế_hoạch', 111), ('trên', 106), ('giai_đoạn', 105), ('ngày', 104), ('hồ_chí_minh', 99), ('địa_bàn', 98), ('thuộc', 96), ('cá_nhân', 96), ('góp_ý', 94), ('phát_động', 93), ('nước', 92), ('cấp', 91), ('sáng_tạo', 91), ('yêu', 89), ('xuất_sắc', 88), ('trong', 86), ('dự_thảo', 86), ('quận', 80), ('có', 73), ('thành_tích', 72), ('kỷ_niệm', 68), ('danh_hiệu', 67), ('giải_thưởng', 63)]\n",
      "40\n",
      "2733534: [('lưu_trữ', 228), ('về', 173), ('năm', 158), ('công_tác', 122), ('tài_liệu', 111), ('thành_phố', 104), ('kế_hoạch', 91), ('và', 84), ('thực_hiện', 74), ('hồ_sơ', 74), ('văn_thư', 73), ('việc', 69), ('của', 67), ('báo_cáo', 51), ('trung_tâm', 49), ('số', 49), ('chỉnh_lý_tài_liệu', 47), ('lịch_sử', 46)]\n",
      "18\n"
     ]
    }
   ],
   "execution_count": 17
  },
  {
   "metadata": {
    "ExecuteTime": {
     "end_time": "2024-07-25T15:06:52.345243Z",
     "start_time": "2024-07-25T15:06:52.337876Z"
    }
   },
   "cell_type": "code",
   "source": [
    "from collections import defaultdict\n",
    "key_count = defaultdict(int)\n",
    "for top_words in top_4_percent_words.values():\n",
    "    for key, _ in top_words:\n",
    "        key_count[key] += 1\n",
    "keys_to_remove = {key for key, count in key_count.items() if count >=4}\n",
    "print(keys_to_remove)\n",
    "print(len(keys_to_remove))"
   ],
   "id": "991541029ea262c3",
   "outputs": [
    {
     "name": "stdout",
     "output_type": "stream",
     "text": [
      "{'hồ_chí_minh', 'các', 'báo_cáo', 'tháng', 'quận', 'tổ_chức', 'kế_hoạch', 'của', 'năm', 'thực_hiện', 'địa_bàn', 'số', 'ngày', 'góp_ý', 'giai_đoạn', 'công_tác', 'về', 'và', 'cấp', 'thành_phố', 'trong', 'dự_thảo', 'sở', 'trên', 'việc'}\n",
      "25\n"
     ]
    }
   ],
   "execution_count": 20
  },
  {
   "metadata": {
    "ExecuteTime": {
     "end_time": "2024-07-25T15:08:00.748774Z",
     "start_time": "2024-07-25T15:08:00.741031Z"
    }
   },
   "cell_type": "code",
   "source": [
    "sorted_words_dataset = sorted(word_counts.items(), key=lambda x: x[1], reverse=True)\n",
    "num_words = max(1, len(sorted_words_dataset) // 50)\n",
    "top_words_DF = sorted_words_dataset[:num_words]\n",
    "print(top_words_DF)\n",
    "print(len(top_words_DF))"
   ],
   "id": "cbca92034952de6",
   "outputs": [
    {
     "name": "stdout",
     "output_type": "stream",
     "text": [
      "[('về', 9968), ('năm', 7273), ('và', 5955), ('của', 5425), ('thành_phố', 4682), ('việc', 3901), ('số', 2982), ('thực_hiện', 2862), ('các', 2755), ('báo_cáo', 2716), ('công_tác', 2551), ('công_chức', 2523), ('quản_lý', 2453), ('ngày', 2407), ('hành_chính', 2021), ('đối_với', 1959), ('viên_chức', 1926), ('tổ_chức', 1787), ('tháng', 1784), ('kế_hoạch', 1760), ('nhân_dân', 1670), ('góp_ý', 1559), ('tại', 1538), ('bồi_dưỡng', 1518), ('ủy_ban', 1512), ('dự_thảo', 1506), ('trên', 1485), ('quận', 1484), ('cán_bộ', 1458), ('hồ_chí_minh', 1436), ('ban', 1404), ('địa_bàn', 1399), ('ubnd', 1347), ('theo', 1294), ('sở', 1265), ('giai_đoạn', 1259), ('cải_cách', 1258), ('quyết_định', 1255), ('lớp', 1232), ('trong', 1144), ('đăng_ký', 1107), ('cấp', 1060), ('triển_khai', 1057), ('kết_quả', 1041), ('đề_án', 1029), ('hoạt_động', 1026), ('người', 1018), ('nâng', 992), ('cho', 979), ('nhiệm_vụ', 886), ('xây_dựng', 876), ('cp', 873), ('đơn_vị', 861), ('đánh_giá', 833), ('lãnh_đạo', 822), ('phòng', 807), ('tham_gia', 805), ('nghị_định', 803), ('nhà_nước', 791), ('nđ', 784), ('tham_dự', 756), ('huyện', 749), ('phát_triển', 728), ('đề_nghị', 690), ('đi', 685), ('thành_lập', 674), ('covid', 660), ('ngạch', 653), ('thuộc', 649), ('quý', 645), ('chương_trình', 644), ('ông', 630), ('nghị_quyết', 620), ('hội_đồng', 612), ('chống', 596), ('tình_hình', 589), ('đến', 588), ('kết_luận', 586), ('kết_quả_thực_hiện', 582), ('cơ_quan', 581), ('chức_danh', 581), ('biên_chế', 579), ('nước_ngoài', 561), ('thành_viên', 558), ('thi_đua', 546), ('có', 542), ('ý_kiến', 541), ('công_ty', 535), ('thanh_tra', 535), ('tổ', 532), ('quy_định', 528), ('ban_hành', 526), ('chính_phủ', 526), ('bổ_sung', 521), ('sự_nghiệp', 520), ('chỉ_số', 519), ('lao_động', 516), ('đầu_tư', 515), ('qđ', 515), ('hiệu_quả', 512), ('dịch', 494), ('công_văn', 490), ('quyền', 485), ('chuyển', 484), ('trung_tâm', 483), ('bổ_nhiệm', 468), ('đề_xuất', 467)]\n",
      "107\n"
     ]
    }
   ],
   "execution_count": 21
  },
  {
   "metadata": {
    "ExecuteTime": {
     "end_time": "2024-07-25T15:08:03.352180Z",
     "start_time": "2024-07-25T15:08:03.346931Z"
    }
   },
   "cell_type": "code",
   "source": [
    "top_words_DF_set = {word for word, _ in top_words_DF}\n",
    "print(top_words_DF_set)\n",
    "print(len(top_words_DF_set))"
   ],
   "id": "c3a380436432c280",
   "outputs": [
    {
     "name": "stdout",
     "output_type": "stream",
     "text": [
      "{'quyền', 'covid', 'kết_quả_thực_hiện', 'nâng', 'tình_hình', 'kết_quả', 'cải_cách', 'đối_với', 'bồi_dưỡng', 'của', 'thực_hiện', 'người', 'huyện', 'nhân_dân', 'nhà_nước', 'đánh_giá', 'đến', 'nước_ngoài', 'qđ', 'ban_hành', 'cho', 'chương_trình', 'chuyển', 'nđ', 'nghị_quyết', 'nghị_định', 'dịch', 'dự_thảo', 'trong', 'đề_án', 'thi_đua', 'phòng', 'các', 'triển_khai', 'cơ_quan', 'hiệu_quả', 'tháng', 'kế_hoạch', 'quy_định', 'thanh_tra', 'thành_lập', 'ban', 'đăng_ký', 'sự_nghiệp', 'và', 'hội_đồng', 'bổ_sung', 'lớp', 'viên_chức', 'thành_phố', 'quyết_định', 'công_ty', 'quý', 'ông', 'đầu_tư', 'đề_xuất', 'ubnd', 'sở', 'trên', 'lãnh_đạo', 'phát_triển', 'quản_lý', 'hồ_chí_minh', 'nhiệm_vụ', 'hoạt_động', 'chống', 'báo_cáo', 'theo', 'lao_động', 'ủy_ban', 'địa_bàn', 'tại', 'thành_viên', 'chính_phủ', 'chỉ_số', 'tham_dự', 'thuộc', 'cp', 'bổ_nhiệm', 'trung_tâm', 'việc', 'đề_nghị', 'kết_luận', 'chức_danh', 'tham_gia', 'quận', 'tổ_chức', 'xây_dựng', 'ngạch', 'năm', 'số', 'ngày', 'tổ', 'góp_ý', 'giai_đoạn', 'hành_chính', 'công_tác', 'về', 'cấp', 'đi', 'công_chức', 'có', 'đơn_vị', 'cán_bộ', 'biên_chế', 'công_văn', 'ý_kiến'}\n",
      "107\n"
     ]
    }
   ],
   "execution_count": 22
  },
  {
   "metadata": {
    "ExecuteTime": {
     "end_time": "2024-07-25T15:08:06.942377Z",
     "start_time": "2024-07-25T15:08:06.936359Z"
    }
   },
   "cell_type": "code",
   "source": [
    "get_more_stopwords = top_words_DF_set & keys_to_remove\n",
    "print(get_more_stopwords)\n",
    "print(len(get_more_stopwords))"
   ],
   "id": "6e7d36a602e960d9",
   "outputs": [
    {
     "name": "stdout",
     "output_type": "stream",
     "text": [
      "{'hồ_chí_minh', 'các', 'báo_cáo', 'quận', 'tháng', 'tổ_chức', 'kế_hoạch', 'của', 'năm', 'thực_hiện', 'địa_bàn', 'số', 'ngày', 'góp_ý', 'giai_đoạn', 'công_tác', 'về', 'và', 'cấp', 'thành_phố', 'trong', 'dự_thảo', 'sở', 'trên', 'việc'}\n",
      "25\n"
     ]
    }
   ],
   "execution_count": 23
  },
  {
   "metadata": {
    "ExecuteTime": {
     "end_time": "2024-07-25T15:08:17.226777Z",
     "start_time": "2024-07-25T15:08:17.221768Z"
    }
   },
   "cell_type": "code",
   "source": [
    "for word in get_more_stopwords:\n",
    "    stopwords_project.add(word)\n",
    "print(len(stopwords_project))"
   ],
   "id": "e638a2ca0ec62ec6",
   "outputs": [
    {
     "name": "stdout",
     "output_type": "stream",
     "text": [
      "25\n"
     ]
    }
   ],
   "execution_count": 24
  },
  {
   "metadata": {
    "ExecuteTime": {
     "end_time": "2024-07-25T15:08:38.412960Z",
     "start_time": "2024-07-25T15:08:38.408071Z"
    }
   },
   "cell_type": "code",
   "source": "write_stopwords_to_file(stopwords_project, filename='../Dataset/Stopwords/stopwords_project.txt')",
   "id": "2664b14775a87ca7",
   "outputs": [],
   "execution_count": 25
  }
 ],
 "metadata": {
  "kernelspec": {
   "display_name": "Python 3",
   "language": "python",
   "name": "python3"
  },
  "language_info": {
   "codemirror_mode": {
    "name": "ipython",
    "version": 2
   },
   "file_extension": ".py",
   "mimetype": "text/x-python",
   "name": "python",
   "nbconvert_exporter": "python",
   "pygments_lexer": "ipython2",
   "version": "2.7.6"
  }
 },
 "nbformat": 4,
 "nbformat_minor": 5
}
