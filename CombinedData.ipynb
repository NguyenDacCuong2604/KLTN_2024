{
  "nbformat": 4,
  "nbformat_minor": 0,
  "metadata": {
    "colab": {
      "provenance": [],
      "include_colab_link": true
    },
    "kernelspec": {
      "name": "python3",
      "display_name": "Python 3"
    },
    "language_info": {
      "name": "python"
    }
  },
  "cells": [
    {
      "cell_type": "markdown",
      "metadata": {
        "id": "view-in-github",
        "colab_type": "text"
      },
      "source": [
        "<a href=\"https://colab.research.google.com/github/NguyenDacCuong2604/KLTN_2024/blob/main/CombinedData.ipynb\" target=\"_parent\"><img src=\"https://colab.research.google.com/assets/colab-badge.svg\" alt=\"Open In Colab\"/></a>"
      ]
    },
    {
      "cell_type": "code",
      "execution_count": 1,
      "metadata": {
        "colab": {
          "base_uri": "https://localhost:8080/"
        },
        "id": "Lqv23-zLeJnH",
        "outputId": "efb42d7c-9a4c-4b50-a3d8-83cb907cd6fd"
      },
      "outputs": [
        {
          "output_type": "stream",
          "name": "stdout",
          "text": [
            "Mounted at /content/gdrive\n",
            "/content/gdrive/MyDrive/Thesis\n"
          ]
        }
      ],
      "source": [
        "from google.colab import drive\n",
        "drive.mount('/content/gdrive', force_remount=True)\n",
        "%cd '/content/gdrive/MyDrive/Thesis'"
      ]
    },
    {
      "cell_type": "code",
      "source": [
        "import pandas as pd\n",
        "import numpy as np"
      ],
      "metadata": {
        "id": "gebr1-dxemrV"
      },
      "execution_count": 2,
      "outputs": []
    },
    {
      "cell_type": "code",
      "source": [
        "folders = ['du_lieu_vbden_snv_2022', 'du_lieu_vbden_snv_2023']\n",
        "phongbanxuly = ['2733546', '2733552', '2733540', '2733570', '2733522', '2733534']"
      ],
      "metadata": {
        "id": "wX9CEGKkMECD"
      },
      "execution_count": 22,
      "outputs": []
    },
    {
      "cell_type": "code",
      "source": [
        "import glob\n",
        "import os\n",
        "all_data = pd.DataFrame()\n",
        "\n",
        "# Duyệt qua từng folder\n",
        "for folder in folders:\n",
        "    # Tạo đường dẫn tới folder hiện tại\n",
        "    folder_path = os.path.join('/content/gdrive/MyDrive/Thesis/dataset/OriginalData', folder)\n",
        "\n",
        "    # Lấy danh sách các file Excel trong folder hiện tại\n",
        "    excel_files = glob.glob(os.path.join(folder_path, '*.xlsx')) + glob.glob(os.path.join(folder_path, '*.xls'))\n",
        "\n",
        "    # Duyệt qua từng file Excel\n",
        "    for file in excel_files:\n",
        "        # Kiểm tra nếu tên file chứa một trong các từ khóa trong phongbanxuly\n",
        "        for keyword in phongbanxuly:\n",
        "            if keyword in os.path.basename(file):\n",
        "                # Đọc file Excel và chỉ lấy cột \"Trích yếu\"\n",
        "                df = pd.read_excel(file, usecols=['Trích yếu'])\n",
        "\n",
        "                # Thêm cột \"ID phòng xử lý\" với giá trị của từ khóa hiện tại\n",
        "                df['ID phòng xử lý'] = keyword\n",
        "\n",
        "                # Gộp DataFrame lại với all_data\n",
        "                all_data = pd.concat([all_data, df], ignore_index=True)"
      ],
      "metadata": {
        "id": "mTPQBpXDNBh9"
      },
      "execution_count": 23,
      "outputs": []
    },
    {
      "cell_type": "code",
      "source": [
        "all_data.info()"
      ],
      "metadata": {
        "colab": {
          "base_uri": "https://localhost:8080/"
        },
        "id": "MqWsSymEOdrS",
        "outputId": "43f0ae9c-5d13-4aac-8389-2129cafbafd8"
      },
      "execution_count": 24,
      "outputs": [
        {
          "output_type": "stream",
          "name": "stdout",
          "text": [
            "<class 'pandas.core.frame.DataFrame'>\n",
            "RangeIndex: 24624 entries, 0 to 24623\n",
            "Data columns (total 2 columns):\n",
            " #   Column          Non-Null Count  Dtype \n",
            "---  ------          --------------  ----- \n",
            " 0   Trích yếu       24618 non-null  object\n",
            " 1   ID phòng xử lý  24624 non-null  object\n",
            "dtypes: object(2)\n",
            "memory usage: 384.9+ KB\n"
          ]
        }
      ]
    },
    {
      "cell_type": "code",
      "source": [
        "all_data['ID phòng xử lý'].value_counts()"
      ],
      "metadata": {
        "colab": {
          "base_uri": "https://localhost:8080/"
        },
        "id": "_18L4P-XPVlH",
        "outputId": "75d258e5-8735-4d3c-d87e-20bed7413e4d"
      },
      "execution_count": 25,
      "outputs": [
        {
          "output_type": "execute_result",
          "data": {
            "text/plain": [
              "ID phòng xử lý\n",
              "2733546    9398\n",
              "2733552    9070\n",
              "2733540    2601\n",
              "2733570    1594\n",
              "2733522    1345\n",
              "2733534     616\n",
              "Name: count, dtype: int64"
            ]
          },
          "metadata": {},
          "execution_count": 25
        }
      ]
    },
    {
      "cell_type": "code",
      "source": [
        "all_data.dropna(inplace=True)"
      ],
      "metadata": {
        "id": "1aSWPqfrPdfK"
      },
      "execution_count": 26,
      "outputs": []
    },
    {
      "cell_type": "code",
      "source": [
        "all_data.info()"
      ],
      "metadata": {
        "colab": {
          "base_uri": "https://localhost:8080/"
        },
        "id": "29sMomCOSwHM",
        "outputId": "7293d7f5-4729-4b2b-bd3f-60be43c4e812"
      },
      "execution_count": 27,
      "outputs": [
        {
          "output_type": "stream",
          "name": "stdout",
          "text": [
            "<class 'pandas.core.frame.DataFrame'>\n",
            "Index: 24618 entries, 0 to 24623\n",
            "Data columns (total 2 columns):\n",
            " #   Column          Non-Null Count  Dtype \n",
            "---  ------          --------------  ----- \n",
            " 0   Trích yếu       24618 non-null  object\n",
            " 1   ID phòng xử lý  24618 non-null  object\n",
            "dtypes: object(2)\n",
            "memory usage: 577.0+ KB\n"
          ]
        }
      ]
    },
    {
      "cell_type": "code",
      "source": [
        "path_output = '/content/gdrive/MyDrive/Thesis/dataset/Root'\n",
        "name_file_output = 'data_2_nam.csv'\n",
        "\n",
        "if not os.path.exists(path_output):\n",
        "    os.makedirs(folder_path)\n",
        "\n",
        "# Ghi DataFrame all_data vào file CSV\n",
        "all_data.to_csv(os.path.join(path_output, name_file_output), index=False)"
      ],
      "metadata": {
        "id": "PgkRBMpEQLbA"
      },
      "execution_count": 28,
      "outputs": []
    }
  ]
}