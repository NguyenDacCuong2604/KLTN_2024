{
  "nbformat": 4,
  "nbformat_minor": 0,
  "metadata": {
    "colab": {
      "provenance": [],
      "authorship_tag": "ABX9TyPddp1IzTm/hIbeSavpJAuQ",
      "include_colab_link": true
    },
    "kernelspec": {
      "name": "python3",
      "display_name": "Python 3"
    },
    "language_info": {
      "name": "python"
    }
  },
  "cells": [
    {
      "cell_type": "markdown",
      "metadata": {
        "id": "view-in-github",
        "colab_type": "text"
      },
      "source": [
        "<a href=\"https://colab.research.google.com/github/NguyenDacCuong2604/KLTN_2024/blob/main/Vectorization.ipynb\" target=\"_parent\"><img src=\"https://colab.research.google.com/assets/colab-badge.svg\" alt=\"Open In Colab\"/></a>"
      ]
    },
    {
      "cell_type": "code",
      "source": [
        "from google.colab import drive\n",
        "drive.mount('/content/gdrive', force_remount=True)\n",
        "%cd '/content/gdrive/MyDrive/Thesis'"
      ],
      "metadata": {
        "colab": {
          "base_uri": "https://localhost:8080/"
        },
        "id": "ItzTdIgkFBmn",
        "outputId": "41d1d160-4b85-4d4a-c6b0-8abe80daad17"
      },
      "execution_count": 1,
      "outputs": [
        {
          "output_type": "stream",
          "name": "stdout",
          "text": [
            "Mounted at /content/gdrive\n",
            "/content/gdrive/MyDrive/Thesis\n"
          ]
        }
      ]
    },
    {
      "cell_type": "code",
      "source": [
        "!pip install gensim"
      ],
      "metadata": {
        "colab": {
          "base_uri": "https://localhost:8080/"
        },
        "id": "je3hdaC9LXbq",
        "outputId": "1464957e-d1d5-460e-b58b-8e12e1ce2631"
      },
      "execution_count": 2,
      "outputs": [
        {
          "output_type": "stream",
          "name": "stdout",
          "text": [
            "Requirement already satisfied: gensim in /usr/local/lib/python3.10/dist-packages (4.3.2)\n",
            "Requirement already satisfied: numpy>=1.18.5 in /usr/local/lib/python3.10/dist-packages (from gensim) (1.25.2)\n",
            "Requirement already satisfied: scipy>=1.7.0 in /usr/local/lib/python3.10/dist-packages (from gensim) (1.11.4)\n",
            "Requirement already satisfied: smart-open>=1.8.1 in /usr/local/lib/python3.10/dist-packages (from gensim) (7.0.4)\n",
            "Requirement already satisfied: wrapt in /usr/local/lib/python3.10/dist-packages (from smart-open>=1.8.1->gensim) (1.14.1)\n"
          ]
        }
      ]
    },
    {
      "cell_type": "code",
      "source": [
        "import pandas as pd"
      ],
      "metadata": {
        "id": "7L6s5QA3GuFq"
      },
      "execution_count": 3,
      "outputs": []
    },
    {
      "cell_type": "markdown",
      "source": [
        "Dữ liệu vector hóa với vector_size là max_lenth"
      ],
      "metadata": {
        "id": "__efiLWRHCrI"
      }
    },
    {
      "cell_type": "code",
      "source": [
        "path_input = '/content/gdrive/MyDrive/Thesis/dataset/PreprocessedData/data_2_nam_keep_multi_label_and_not_remove_np.csv'\n",
        "min_count = 3 #Loại bỏ các từ xuất hiện ít hơn một ngưỡng nhất định"
      ],
      "metadata": {
        "id": "bd4CqPUcGX8A"
      },
      "execution_count": 26,
      "outputs": []
    },
    {
      "cell_type": "code",
      "source": [
        "df = pd.read_csv(path_input)\n",
        "df.info()"
      ],
      "metadata": {
        "colab": {
          "base_uri": "https://localhost:8080/"
        },
        "id": "J5lHvULPHbPY",
        "outputId": "930d0482-5bdf-4e9a-db78-addb56c26f3f"
      },
      "execution_count": 27,
      "outputs": [
        {
          "output_type": "stream",
          "name": "stdout",
          "text": [
            "<class 'pandas.core.frame.DataFrame'>\n",
            "RangeIndex: 24618 entries, 0 to 24617\n",
            "Data columns (total 3 columns):\n",
            " #   Column          Non-Null Count  Dtype \n",
            "---  ------          --------------  ----- \n",
            " 0   Trích yếu       24618 non-null  object\n",
            " 1   ID phòng xử lý  24618 non-null  int64 \n",
            " 2   input           24618 non-null  object\n",
            "dtypes: int64(1), object(2)\n",
            "memory usage: 577.1+ KB\n"
          ]
        }
      ]
    },
    {
      "cell_type": "code",
      "source": [
        "df['input'].fillna('', inplace=True)"
      ],
      "metadata": {
        "id": "UwvthEN6vlAM"
      },
      "execution_count": 28,
      "outputs": []
    },
    {
      "cell_type": "code",
      "source": [
        "word_counts= {}\n",
        "for text in df['input']:\n",
        "    words = text.split()\n",
        "    for word in words:\n",
        "        if word in word_counts:\n",
        "            word_counts[word] += 1\n",
        "        else:\n",
        "            word_counts[word] = 1"
      ],
      "metadata": {
        "id": "ck8G00Xg3lpD"
      },
      "execution_count": 69,
      "outputs": []
    },
    {
      "cell_type": "code",
      "source": [
        "filtered_words = {word for word, count in word_counts.items() if count >= min_count}"
      ],
      "metadata": {
        "id": "JLn027MH3y5i"
      },
      "execution_count": 70,
      "outputs": []
    },
    {
      "cell_type": "code",
      "source": [
        "df['input'] = df['input'].apply(lambda x: ' '.join([word for word in x.split() if word in filtered_words]))"
      ],
      "metadata": {
        "id": "qjsopSwh337j"
      },
      "execution_count": 71,
      "outputs": []
    },
    {
      "cell_type": "code",
      "source": [
        "vector_size = len(filtered_words)\n",
        "print(vector_size)"
      ],
      "metadata": {
        "colab": {
          "base_uri": "https://localhost:8080/"
        },
        "id": "xBVHNLlU38Ej",
        "outputId": "d86098c6-fab6-4812-c0d9-1d98734c933d"
      },
      "execution_count": 72,
      "outputs": [
        {
          "output_type": "stream",
          "name": "stdout",
          "text": [
            "2593\n"
          ]
        }
      ]
    },
    {
      "cell_type": "markdown",
      "source": [
        "# TF-IDF"
      ],
      "metadata": {
        "id": "ZvEfGLDSE5In"
      }
    },
    {
      "cell_type": "code",
      "source": [
        "from sklearn.feature_extraction.text import TfidfVectorizer\n",
        "tfidf = TfidfVectorizer()"
      ],
      "metadata": {
        "id": "yHcWXXmmE4Ff"
      },
      "execution_count": 73,
      "outputs": []
    },
    {
      "cell_type": "code",
      "execution_count": 74,
      "metadata": {
        "id": "8u0ohoS3EVqf"
      },
      "outputs": [],
      "source": [
        "X = df['input']\n",
        "X_transformed = tfidf.fit_transform(X)"
      ]
    },
    {
      "cell_type": "code",
      "source": [
        "df_tfidf = pd.DataFrame(X_transformed.toarray())"
      ],
      "metadata": {
        "id": "51oFikEFI266"
      },
      "execution_count": 75,
      "outputs": []
    },
    {
      "cell_type": "code",
      "source": [
        "df_tfidf['label'] = df['ID phòng xử lý']"
      ],
      "metadata": {
        "id": "LBXfaOy2IRmg"
      },
      "execution_count": 76,
      "outputs": []
    },
    {
      "cell_type": "code",
      "source": [
        "df_tfidf.info()"
      ],
      "metadata": {
        "colab": {
          "base_uri": "https://localhost:8080/"
        },
        "id": "qzSvf_JKJE2o",
        "outputId": "8fcf9c2e-bbfa-4408-8be0-66680e37b909"
      },
      "execution_count": 77,
      "outputs": [
        {
          "output_type": "stream",
          "name": "stdout",
          "text": [
            "<class 'pandas.core.frame.DataFrame'>\n",
            "RangeIndex: 24618 entries, 0 to 24617\n",
            "Columns: 2594 entries, 0 to label\n",
            "dtypes: float64(2593), int64(1)\n",
            "memory usage: 487.2 MB\n"
          ]
        }
      ]
    },
    {
      "cell_type": "code",
      "source": [
        "path_output = '/content/gdrive/MyDrive/Thesis/dataset/VectorHoa/TFIDF/Data2NamKeepMultiLabelAndNotRemoveNP'\n",
        "name_file_output = 'data_vector_hoa.csv'\n",
        "\n",
        "import os\n",
        "if not os.path.exists(path_output):\n",
        "    os.makedirs(path_output)\n",
        "\n",
        "# Ghi DataFrame all_data vào file CSV\n",
        "df_tfidf.to_csv(os.path.join(path_output, name_file_output), index=False)"
      ],
      "metadata": {
        "id": "3HeytrSIJigw"
      },
      "execution_count": 78,
      "outputs": []
    },
    {
      "cell_type": "code",
      "source": [
        "#Lưu model vector hóa\n",
        "import joblib\n",
        "name_file_vector_hoa = 'tfidf_model.joblib'\n",
        "joblib.dump(tfidf, os.path.join(path_output, name_file_vector_hoa))"
      ],
      "metadata": {
        "colab": {
          "base_uri": "https://localhost:8080/"
        },
        "id": "rV3G6_DNKRo5",
        "outputId": "484f8126-1b22-4999-fbdc-e011f0e09f13"
      },
      "execution_count": 79,
      "outputs": [
        {
          "output_type": "execute_result",
          "data": {
            "text/plain": [
              "['/content/gdrive/MyDrive/Thesis/dataset/VectorHoa/TFIDF/Data2NamKeepMultiLabelAndNotRemoveNP/tfidf_model.joblib']"
            ]
          },
          "metadata": {},
          "execution_count": 79
        }
      ]
    },
    {
      "cell_type": "markdown",
      "source": [
        "# Doc2Vec"
      ],
      "metadata": {
        "id": "uZDwvTV9K8i_"
      }
    },
    {
      "cell_type": "code",
      "source": [
        "from gensim.models.doc2vec import Doc2Vec, TaggedDocument\n",
        "from collections import Counter\n",
        "# Tạo danh sách các tài liệu được đánh nhãn\n",
        "tagged_data = [TaggedDocument(words=doc.split(), tags=[str(i)]) for i, doc in enumerate(df['input'])]"
      ],
      "metadata": {
        "id": "X6Rui8EDLen4"
      },
      "execution_count": 80,
      "outputs": []
    },
    {
      "cell_type": "code",
      "source": [
        "alpha = 0.025\n",
        "min_alpha = 0.00025\n",
        "epochs = 20"
      ],
      "metadata": {
        "id": "Z7_Y3-NxMn6y"
      },
      "execution_count": 81,
      "outputs": []
    },
    {
      "cell_type": "code",
      "source": [
        "# Khởi tạo và huấn luyện mô hình PV-DBOW\n",
        "model_doc2vec = Doc2Vec(vector_size=vector_size, alpha=alpha, min_alpha=min_alpha, min_count=min_count, dm=0)"
      ],
      "metadata": {
        "id": "ylASfk-bNBLI"
      },
      "execution_count": 82,
      "outputs": []
    },
    {
      "cell_type": "code",
      "source": [
        "# Xây dựng từ vựng từ dữ liệu được gắn thẻ\n",
        "model_doc2vec.build_vocab(tagged_data)"
      ],
      "metadata": {
        "id": "ud4NExOONGFY"
      },
      "execution_count": 83,
      "outputs": []
    },
    {
      "cell_type": "code",
      "source": [
        "# Huấn luyện mô hình\n",
        "model_doc2vec.train(tagged_data, total_examples=model_doc2vec.corpus_count, epochs=epochs)"
      ],
      "metadata": {
        "id": "x5lKUXZANUhn"
      },
      "execution_count": 84,
      "outputs": []
    },
    {
      "cell_type": "code",
      "source": [
        "# Lấy vector cho mỗi tài liệu\n",
        "doc_vectors = [model_doc2vec.dv[str(i)] for i in range(len(df))]\n",
        "df_doc2vec = pd.DataFrame(doc_vectors)\n",
        "df_doc2vec['label'] = df['ID phòng xử lý']"
      ],
      "metadata": {
        "id": "BylC9sO0NXY3"
      },
      "execution_count": 85,
      "outputs": []
    },
    {
      "cell_type": "code",
      "source": [
        "df_doc2vec.info()"
      ],
      "metadata": {
        "colab": {
          "base_uri": "https://localhost:8080/"
        },
        "id": "KJIPsqs_Oqov",
        "outputId": "3f14427e-c36a-4b84-e83a-3e05108ba91b"
      },
      "execution_count": 86,
      "outputs": [
        {
          "output_type": "stream",
          "name": "stdout",
          "text": [
            "<class 'pandas.core.frame.DataFrame'>\n",
            "RangeIndex: 24618 entries, 0 to 24617\n",
            "Columns: 2594 entries, 0 to label\n",
            "dtypes: float32(2593), int64(1)\n",
            "memory usage: 243.7 MB\n"
          ]
        }
      ]
    },
    {
      "cell_type": "code",
      "source": [
        "path_output = '/content/gdrive/MyDrive/Thesis/dataset/VectorHoa/Doc2Vec/Data2NamKeepMultiLabelAndNotRemoveNP'\n",
        "name_file_output = 'data_vector_hoa.csv'\n",
        "\n",
        "import os\n",
        "if not os.path.exists(path_output):\n",
        "    os.makedirs(path_output)\n",
        "\n",
        "# Ghi DataFrame all_data vào file CSV\n",
        "df_doc2vec.to_csv(os.path.join(path_output, name_file_output), index=False)"
      ],
      "metadata": {
        "id": "IZchTws8Nr0I"
      },
      "execution_count": 87,
      "outputs": []
    },
    {
      "cell_type": "code",
      "source": [
        "#Lưu model vector hóa\n",
        "model_doc2vec.save(os.path.join(path_output, 'model_doc2vec.model'))"
      ],
      "metadata": {
        "id": "BzKvTCkhNwT4"
      },
      "execution_count": 88,
      "outputs": []
    },
    {
      "cell_type": "markdown",
      "source": [
        "# Word2Vec"
      ],
      "metadata": {
        "id": "KlosgrRNOF7x"
      }
    },
    {
      "cell_type": "code",
      "source": [
        "sentences = df['input'].tolist()"
      ],
      "metadata": {
        "id": "eI8MkUS8_mNx"
      },
      "execution_count": 89,
      "outputs": []
    },
    {
      "cell_type": "code",
      "source": [
        "from gensim.models.doc2vec import Word2Vec\n",
        "#sử dụng skip-grams\n",
        "model_word2vec = Word2Vec(sentences, vector_size=vector_size, window=5, sg=1)"
      ],
      "metadata": {
        "id": "ynDEtXNUOIsW",
        "colab": {
          "base_uri": "https://localhost:8080/"
        },
        "outputId": "9a5349fe-d657-490d-ceee-d9a9ad53568b"
      },
      "execution_count": 91,
      "outputs": [
        {
          "output_type": "stream",
          "name": "stderr",
          "text": [
            "WARNING:gensim.models.word2vec:Each 'sentences' item should be a list of words (usually unicode strings). First item here is instead plain <class 'str'>.\n"
          ]
        }
      ]
    },
    {
      "cell_type": "code",
      "source": [
        "import numpy as np\n",
        "def vectorize_input(input_text, model):\n",
        "    vectorized_input = []\n",
        "    for sentence in input_text:\n",
        "        # Lấy vector trung bình của các từ trong câu\n",
        "        vectors = [model.wv[word] for word in sentence if word in model.wv]\n",
        "        if vectors:\n",
        "            vector = np.mean(vectors, axis=0)\n",
        "        else:\n",
        "            vector = np.zeros(model.vector_size)\n",
        "        vectorized_input.append(vector)\n",
        "    return vectorized_input"
      ],
      "metadata": {
        "id": "M4s06N11Sl_J"
      },
      "execution_count": 99,
      "outputs": []
    },
    {
      "cell_type": "code",
      "source": [
        "vectorized_input = vectorize_input(sentences, model_word2vec)"
      ],
      "metadata": {
        "id": "inQtrG0YRVDn"
      },
      "execution_count": 100,
      "outputs": []
    },
    {
      "cell_type": "code",
      "source": [
        "df_word2vec = pd.DataFrame(vectorized_input)"
      ],
      "metadata": {
        "id": "buq1pC4UAwfC"
      },
      "execution_count": 101,
      "outputs": []
    },
    {
      "cell_type": "code",
      "source": [
        "df_word2vec['label'] = df['ID phòng xử lý']\n",
        "df_word2vec.info()"
      ],
      "metadata": {
        "colab": {
          "base_uri": "https://localhost:8080/"
        },
        "id": "hOA-ODm5A2BL",
        "outputId": "72b61501-0b47-4f82-aae3-638a96c08520"
      },
      "execution_count": 102,
      "outputs": [
        {
          "output_type": "stream",
          "name": "stdout",
          "text": [
            "<class 'pandas.core.frame.DataFrame'>\n",
            "RangeIndex: 24618 entries, 0 to 24617\n",
            "Columns: 2594 entries, 0 to label\n",
            "dtypes: float64(2593), int64(1)\n",
            "memory usage: 487.2 MB\n"
          ]
        }
      ]
    },
    {
      "cell_type": "code",
      "source": [
        "path_output = '/content/gdrive/MyDrive/Thesis/dataset/VectorHoa/Word2Vec/Data2NamKeepMultiLabelAndNotRemoveNP'\n",
        "name_file_output = 'data_vector_hoa.csv'\n",
        "\n",
        "import os\n",
        "if not os.path.exists(path_output):\n",
        "    os.makedirs(path_output)\n",
        "\n",
        "# Ghi DataFrame all_data vào file CSV\n",
        "df_word2vec.to_csv(os.path.join(path_output, name_file_output), index=False)"
      ],
      "metadata": {
        "id": "5_-I7kpEBdfJ"
      },
      "execution_count": 103,
      "outputs": []
    },
    {
      "cell_type": "code",
      "source": [
        "#Lưu model vector hóa\n",
        "model_word2vec.save(os.path.join(path_output, 'model_word2vec.model'))"
      ],
      "metadata": {
        "id": "osV2r7KmBlSp"
      },
      "execution_count": 105,
      "outputs": []
    }
  ]
}